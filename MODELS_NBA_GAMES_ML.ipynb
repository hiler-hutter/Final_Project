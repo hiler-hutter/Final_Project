{
 "cells": [
  {
   "cell_type": "markdown",
   "id": "c06efd1f",
   "metadata": {},
   "source": [
    "Modelo de regresion logistica para predecir la victoria o la derrota del equipo anfitrion de baloncesto, utilizando como \n",
    "variable dependiente el Home_Team_Win y las variables explicativas: asistecias, tapones, tiros de campo, tiros de tres puntos y\n",
    "tiros libres. Cada una de las variables explicativas de los respectivos equipos, tanto del visitante como del anfitrion. Ademas\n",
    "se realizaran mas modelos de clasificacion para asi escoger el de mayor precision: SVM, KNN, Random Forest."
   ]
  },
  {
   "cell_type": "code",
   "execution_count": 154,
   "id": "0dee71e4",
   "metadata": {},
   "outputs": [],
   "source": [
    "#Importamos todas las librerias necesarias para los modelos de clasificaciones\n",
    "\n",
    "%matplotlib inline\n",
    "import pandas as pd\n",
    "import numpy as np\n",
    "import re\n",
    "\n",
    "import matplotlib.pyplot as plt\n",
    "from scipy.stats import f_oneway, f\n",
    "\n",
    "import statsmodels.api as sm\n",
    "from statsmodels.formula.api import ols \n",
    "\n",
    "import warnings\n",
    "warnings.simplefilter('ignore')\n",
    "\n",
    "import seaborn as sns\n",
    "import seaborn as sb\n",
    "\n",
    "from scipy.stats import norm\n",
    "\n",
    "from sklearn.metrics import mean_squared_error, r2_score\n",
    "from sklearn.preprocessing import StandardScaler\n",
    "from sklearn.model_selection import train_test_split\n",
    "from sklearn.linear_model import LogisticRegression\n",
    "from sklearn.model_selection import train_test_split\n",
    "from sklearn import metrics\n",
    "from sklearn.metrics import confusion_matrix, accuracy_score\n",
    "from sklearn.metrics import classification_report\n",
    "from sklearn.dummy import DummyClassifier\n",
    "from sklearn.metrics import accuracy_score\n",
    "\n",
    "from sklearn.metrics import roc_curve, roc_auc_score\n",
    "import matplotlib.pyplot as plt\n",
    "\n",
    "from sklearn.model_selection import cross_val_score, train_test_split\n",
    "from sklearn.tree import DecisionTreeClassifier\n",
    "from sklearn import tree\n",
    "from sklearn.ensemble import RandomForestClassifier, ExtraTreesClassifier\n",
    "from sklearn.svm import LinearSVC\n",
    "from sklearn import neighbors"
   ]
  },
  {
   "cell_type": "code",
   "execution_count": 155,
   "id": "c9936024",
   "metadata": {},
   "outputs": [],
   "source": [
    "df = pd.read_csv('data_nba_clean.csv')"
   ]
  },
  {
   "cell_type": "code",
   "execution_count": 156,
   "id": "378f410a",
   "metadata": {},
   "outputs": [
    {
     "data": {
      "text/html": [
       "<div>\n",
       "<style scoped>\n",
       "    .dataframe tbody tr th:only-of-type {\n",
       "        vertical-align: middle;\n",
       "    }\n",
       "\n",
       "    .dataframe tbody tr th {\n",
       "        vertical-align: top;\n",
       "    }\n",
       "\n",
       "    .dataframe thead th {\n",
       "        text-align: right;\n",
       "    }\n",
       "</style>\n",
       "<table border=\"1\" class=\"dataframe\">\n",
       "  <thead>\n",
       "    <tr style=\"text-align: right;\">\n",
       "      <th></th>\n",
       "      <th>Unnamed: 0</th>\n",
       "      <th>GAME_DATE_EST</th>\n",
       "      <th>GAME_ID</th>\n",
       "      <th>GAME_STATUS_TEXT</th>\n",
       "      <th>HOME_TEAM_ID</th>\n",
       "      <th>VISITOR_TEAM_ID</th>\n",
       "      <th>SEASON</th>\n",
       "      <th>TEAM_ID_home</th>\n",
       "      <th>PTS_home</th>\n",
       "      <th>FG_PCT_home</th>\n",
       "      <th>...</th>\n",
       "      <th>AST_away</th>\n",
       "      <th>REB_away</th>\n",
       "      <th>HOME_TEAM_WINS</th>\n",
       "      <th>year</th>\n",
       "      <th>pts_totals</th>\n",
       "      <th>ast_totals</th>\n",
       "      <th>fg_totals</th>\n",
       "      <th>rb_totals</th>\n",
       "      <th>fg3_totals</th>\n",
       "      <th>ft_totals</th>\n",
       "    </tr>\n",
       "  </thead>\n",
       "  <tbody>\n",
       "    <tr>\n",
       "      <th>0</th>\n",
       "      <td>0</td>\n",
       "      <td>2022-03-12</td>\n",
       "      <td>22101005</td>\n",
       "      <td>Final</td>\n",
       "      <td>1610612748</td>\n",
       "      <td>1610612750</td>\n",
       "      <td>2021</td>\n",
       "      <td>1610612748</td>\n",
       "      <td>104.0</td>\n",
       "      <td>0.398</td>\n",
       "      <td>...</td>\n",
       "      <td>21.0</td>\n",
       "      <td>46.0</td>\n",
       "      <td>0</td>\n",
       "      <td>2022</td>\n",
       "      <td>217.0</td>\n",
       "      <td>44.0</td>\n",
       "      <td>0.820</td>\n",
       "      <td>99.0</td>\n",
       "      <td>0.690</td>\n",
       "      <td>1.635</td>\n",
       "    </tr>\n",
       "    <tr>\n",
       "      <th>1</th>\n",
       "      <td>1</td>\n",
       "      <td>2022-03-12</td>\n",
       "      <td>22101006</td>\n",
       "      <td>Final</td>\n",
       "      <td>1610612741</td>\n",
       "      <td>1610612739</td>\n",
       "      <td>2021</td>\n",
       "      <td>1610612741</td>\n",
       "      <td>101.0</td>\n",
       "      <td>0.443</td>\n",
       "      <td>...</td>\n",
       "      <td>19.0</td>\n",
       "      <td>40.0</td>\n",
       "      <td>1</td>\n",
       "      <td>2022</td>\n",
       "      <td>192.0</td>\n",
       "      <td>39.0</td>\n",
       "      <td>0.862</td>\n",
       "      <td>86.0</td>\n",
       "      <td>0.637</td>\n",
       "      <td>1.757</td>\n",
       "    </tr>\n",
       "    <tr>\n",
       "      <th>2</th>\n",
       "      <td>2</td>\n",
       "      <td>2022-03-12</td>\n",
       "      <td>22101007</td>\n",
       "      <td>Final</td>\n",
       "      <td>1610612759</td>\n",
       "      <td>1610612754</td>\n",
       "      <td>2021</td>\n",
       "      <td>1610612759</td>\n",
       "      <td>108.0</td>\n",
       "      <td>0.412</td>\n",
       "      <td>...</td>\n",
       "      <td>23.0</td>\n",
       "      <td>47.0</td>\n",
       "      <td>0</td>\n",
       "      <td>2022</td>\n",
       "      <td>227.0</td>\n",
       "      <td>51.0</td>\n",
       "      <td>0.901</td>\n",
       "      <td>99.0</td>\n",
       "      <td>0.713</td>\n",
       "      <td>1.813</td>\n",
       "    </tr>\n",
       "    <tr>\n",
       "      <th>3</th>\n",
       "      <td>3</td>\n",
       "      <td>2022-03-12</td>\n",
       "      <td>22101008</td>\n",
       "      <td>Final</td>\n",
       "      <td>1610612744</td>\n",
       "      <td>1610612749</td>\n",
       "      <td>2021</td>\n",
       "      <td>1610612744</td>\n",
       "      <td>122.0</td>\n",
       "      <td>0.484</td>\n",
       "      <td>...</td>\n",
       "      <td>27.0</td>\n",
       "      <td>39.0</td>\n",
       "      <td>1</td>\n",
       "      <td>2022</td>\n",
       "      <td>231.0</td>\n",
       "      <td>60.0</td>\n",
       "      <td>0.897</td>\n",
       "      <td>94.0</td>\n",
       "      <td>0.786</td>\n",
       "      <td>1.629</td>\n",
       "    </tr>\n",
       "    <tr>\n",
       "      <th>4</th>\n",
       "      <td>4</td>\n",
       "      <td>2022-03-12</td>\n",
       "      <td>22101009</td>\n",
       "      <td>Final</td>\n",
       "      <td>1610612743</td>\n",
       "      <td>1610612761</td>\n",
       "      <td>2021</td>\n",
       "      <td>1610612743</td>\n",
       "      <td>115.0</td>\n",
       "      <td>0.551</td>\n",
       "      <td>...</td>\n",
       "      <td>28.0</td>\n",
       "      <td>50.0</td>\n",
       "      <td>0</td>\n",
       "      <td>2022</td>\n",
       "      <td>242.0</td>\n",
       "      <td>60.0</td>\n",
       "      <td>1.022</td>\n",
       "      <td>89.0</td>\n",
       "      <td>0.794</td>\n",
       "      <td>1.510</td>\n",
       "    </tr>\n",
       "    <tr>\n",
       "      <th>...</th>\n",
       "      <td>...</td>\n",
       "      <td>...</td>\n",
       "      <td>...</td>\n",
       "      <td>...</td>\n",
       "      <td>...</td>\n",
       "      <td>...</td>\n",
       "      <td>...</td>\n",
       "      <td>...</td>\n",
       "      <td>...</td>\n",
       "      <td>...</td>\n",
       "      <td>...</td>\n",
       "      <td>...</td>\n",
       "      <td>...</td>\n",
       "      <td>...</td>\n",
       "      <td>...</td>\n",
       "      <td>...</td>\n",
       "      <td>...</td>\n",
       "      <td>...</td>\n",
       "      <td>...</td>\n",
       "      <td>...</td>\n",
       "      <td>...</td>\n",
       "    </tr>\n",
       "    <tr>\n",
       "      <th>25692</th>\n",
       "      <td>25791</td>\n",
       "      <td>2014-10-06</td>\n",
       "      <td>11400007</td>\n",
       "      <td>Final</td>\n",
       "      <td>1610612737</td>\n",
       "      <td>1610612740</td>\n",
       "      <td>2014</td>\n",
       "      <td>1610612737</td>\n",
       "      <td>93.0</td>\n",
       "      <td>0.419</td>\n",
       "      <td>...</td>\n",
       "      <td>17.0</td>\n",
       "      <td>43.0</td>\n",
       "      <td>1</td>\n",
       "      <td>2014</td>\n",
       "      <td>180.0</td>\n",
       "      <td>41.0</td>\n",
       "      <td>0.785</td>\n",
       "      <td>93.0</td>\n",
       "      <td>0.796</td>\n",
       "      <td>1.464</td>\n",
       "    </tr>\n",
       "    <tr>\n",
       "      <th>25693</th>\n",
       "      <td>25792</td>\n",
       "      <td>2014-10-06</td>\n",
       "      <td>11400004</td>\n",
       "      <td>Final</td>\n",
       "      <td>1610612741</td>\n",
       "      <td>1610612764</td>\n",
       "      <td>2014</td>\n",
       "      <td>1610612741</td>\n",
       "      <td>81.0</td>\n",
       "      <td>0.338</td>\n",
       "      <td>...</td>\n",
       "      <td>17.0</td>\n",
       "      <td>47.0</td>\n",
       "      <td>0</td>\n",
       "      <td>2014</td>\n",
       "      <td>166.0</td>\n",
       "      <td>35.0</td>\n",
       "      <td>0.749</td>\n",
       "      <td>87.0</td>\n",
       "      <td>0.648</td>\n",
       "      <td>1.355</td>\n",
       "    </tr>\n",
       "    <tr>\n",
       "      <th>25694</th>\n",
       "      <td>25793</td>\n",
       "      <td>2014-10-06</td>\n",
       "      <td>11400005</td>\n",
       "      <td>Final</td>\n",
       "      <td>1610612747</td>\n",
       "      <td>1610612743</td>\n",
       "      <td>2014</td>\n",
       "      <td>1610612747</td>\n",
       "      <td>98.0</td>\n",
       "      <td>0.448</td>\n",
       "      <td>...</td>\n",
       "      <td>19.0</td>\n",
       "      <td>43.0</td>\n",
       "      <td>1</td>\n",
       "      <td>2014</td>\n",
       "      <td>193.0</td>\n",
       "      <td>48.0</td>\n",
       "      <td>0.835</td>\n",
       "      <td>88.0</td>\n",
       "      <td>1.000</td>\n",
       "      <td>1.341</td>\n",
       "    </tr>\n",
       "    <tr>\n",
       "      <th>25695</th>\n",
       "      <td>25794</td>\n",
       "      <td>2014-10-05</td>\n",
       "      <td>11400002</td>\n",
       "      <td>Final</td>\n",
       "      <td>1610612761</td>\n",
       "      <td>1610612758</td>\n",
       "      <td>2014</td>\n",
       "      <td>1610612761</td>\n",
       "      <td>99.0</td>\n",
       "      <td>0.440</td>\n",
       "      <td>...</td>\n",
       "      <td>18.0</td>\n",
       "      <td>45.0</td>\n",
       "      <td>1</td>\n",
       "      <td>2014</td>\n",
       "      <td>193.0</td>\n",
       "      <td>39.0</td>\n",
       "      <td>0.909</td>\n",
       "      <td>75.0</td>\n",
       "      <td>0.718</td>\n",
       "      <td>1.496</td>\n",
       "    </tr>\n",
       "    <tr>\n",
       "      <th>25696</th>\n",
       "      <td>25795</td>\n",
       "      <td>2014-10-04</td>\n",
       "      <td>11400001</td>\n",
       "      <td>Final</td>\n",
       "      <td>1610612748</td>\n",
       "      <td>1610612740</td>\n",
       "      <td>2014</td>\n",
       "      <td>1610612748</td>\n",
       "      <td>86.0</td>\n",
       "      <td>0.431</td>\n",
       "      <td>...</td>\n",
       "      <td>19.0</td>\n",
       "      <td>42.0</td>\n",
       "      <td>0</td>\n",
       "      <td>2014</td>\n",
       "      <td>184.0</td>\n",
       "      <td>37.0</td>\n",
       "      <td>0.893</td>\n",
       "      <td>84.0</td>\n",
       "      <td>0.771</td>\n",
       "      <td>1.385</td>\n",
       "    </tr>\n",
       "  </tbody>\n",
       "</table>\n",
       "<p>25697 rows × 29 columns</p>\n",
       "</div>"
      ],
      "text/plain": [
       "       Unnamed: 0 GAME_DATE_EST   GAME_ID GAME_STATUS_TEXT  HOME_TEAM_ID  \\\n",
       "0               0    2022-03-12  22101005            Final    1610612748   \n",
       "1               1    2022-03-12  22101006            Final    1610612741   \n",
       "2               2    2022-03-12  22101007            Final    1610612759   \n",
       "3               3    2022-03-12  22101008            Final    1610612744   \n",
       "4               4    2022-03-12  22101009            Final    1610612743   \n",
       "...           ...           ...       ...              ...           ...   \n",
       "25692       25791    2014-10-06  11400007            Final    1610612737   \n",
       "25693       25792    2014-10-06  11400004            Final    1610612741   \n",
       "25694       25793    2014-10-06  11400005            Final    1610612747   \n",
       "25695       25794    2014-10-05  11400002            Final    1610612761   \n",
       "25696       25795    2014-10-04  11400001            Final    1610612748   \n",
       "\n",
       "       VISITOR_TEAM_ID  SEASON  TEAM_ID_home  PTS_home  FG_PCT_home  ...  \\\n",
       "0           1610612750    2021    1610612748     104.0        0.398  ...   \n",
       "1           1610612739    2021    1610612741     101.0        0.443  ...   \n",
       "2           1610612754    2021    1610612759     108.0        0.412  ...   \n",
       "3           1610612749    2021    1610612744     122.0        0.484  ...   \n",
       "4           1610612761    2021    1610612743     115.0        0.551  ...   \n",
       "...                ...     ...           ...       ...          ...  ...   \n",
       "25692       1610612740    2014    1610612737      93.0        0.419  ...   \n",
       "25693       1610612764    2014    1610612741      81.0        0.338  ...   \n",
       "25694       1610612743    2014    1610612747      98.0        0.448  ...   \n",
       "25695       1610612758    2014    1610612761      99.0        0.440  ...   \n",
       "25696       1610612740    2014    1610612748      86.0        0.431  ...   \n",
       "\n",
       "       AST_away  REB_away  HOME_TEAM_WINS  year  pts_totals  ast_totals  \\\n",
       "0          21.0      46.0               0  2022       217.0        44.0   \n",
       "1          19.0      40.0               1  2022       192.0        39.0   \n",
       "2          23.0      47.0               0  2022       227.0        51.0   \n",
       "3          27.0      39.0               1  2022       231.0        60.0   \n",
       "4          28.0      50.0               0  2022       242.0        60.0   \n",
       "...         ...       ...             ...   ...         ...         ...   \n",
       "25692      17.0      43.0               1  2014       180.0        41.0   \n",
       "25693      17.0      47.0               0  2014       166.0        35.0   \n",
       "25694      19.0      43.0               1  2014       193.0        48.0   \n",
       "25695      18.0      45.0               1  2014       193.0        39.0   \n",
       "25696      19.0      42.0               0  2014       184.0        37.0   \n",
       "\n",
       "       fg_totals  rb_totals  fg3_totals  ft_totals  \n",
       "0          0.820       99.0       0.690      1.635  \n",
       "1          0.862       86.0       0.637      1.757  \n",
       "2          0.901       99.0       0.713      1.813  \n",
       "3          0.897       94.0       0.786      1.629  \n",
       "4          1.022       89.0       0.794      1.510  \n",
       "...          ...        ...         ...        ...  \n",
       "25692      0.785       93.0       0.796      1.464  \n",
       "25693      0.749       87.0       0.648      1.355  \n",
       "25694      0.835       88.0       1.000      1.341  \n",
       "25695      0.909       75.0       0.718      1.496  \n",
       "25696      0.893       84.0       0.771      1.385  \n",
       "\n",
       "[25697 rows x 29 columns]"
      ]
     },
     "execution_count": 156,
     "metadata": {},
     "output_type": "execute_result"
    }
   ],
   "source": [
    "df"
   ]
  },
  {
   "cell_type": "code",
   "execution_count": 157,
   "id": "448ea982",
   "metadata": {},
   "outputs": [],
   "source": [
    "#Eliminamos la columna unname\n",
    "df.drop(['Unnamed: 0'], axis = 1, inplace= True)"
   ]
  },
  {
   "cell_type": "code",
   "execution_count": 158,
   "id": "20264bf3",
   "metadata": {},
   "outputs": [
    {
     "name": "stdout",
     "output_type": "stream",
     "text": [
      "<class 'pandas.core.frame.DataFrame'>\n",
      "RangeIndex: 25697 entries, 0 to 25696\n",
      "Data columns (total 28 columns):\n",
      " #   Column            Non-Null Count  Dtype  \n",
      "---  ------            --------------  -----  \n",
      " 0   GAME_DATE_EST     25697 non-null  object \n",
      " 1   GAME_ID           25697 non-null  int64  \n",
      " 2   GAME_STATUS_TEXT  25697 non-null  object \n",
      " 3   HOME_TEAM_ID      25697 non-null  int64  \n",
      " 4   VISITOR_TEAM_ID   25697 non-null  int64  \n",
      " 5   SEASON            25697 non-null  int64  \n",
      " 6   TEAM_ID_home      25697 non-null  int64  \n",
      " 7   PTS_home          25697 non-null  float64\n",
      " 8   FG_PCT_home       25697 non-null  float64\n",
      " 9   FT_PCT_home       25697 non-null  float64\n",
      " 10  FG3_PCT_home      25697 non-null  float64\n",
      " 11  AST_home          25697 non-null  float64\n",
      " 12  REB_home          25697 non-null  float64\n",
      " 13  TEAM_ID_away      25697 non-null  int64  \n",
      " 14  PTS_away          25697 non-null  float64\n",
      " 15  FG_PCT_away       25697 non-null  float64\n",
      " 16  FT_PCT_away       25697 non-null  float64\n",
      " 17  FG3_PCT_away      25697 non-null  float64\n",
      " 18  AST_away          25697 non-null  float64\n",
      " 19  REB_away          25697 non-null  float64\n",
      " 20  HOME_TEAM_WINS    25697 non-null  int64  \n",
      " 21  year              25697 non-null  int64  \n",
      " 22  pts_totals        25697 non-null  float64\n",
      " 23  ast_totals        25697 non-null  float64\n",
      " 24  fg_totals         25697 non-null  float64\n",
      " 25  rb_totals         25697 non-null  float64\n",
      " 26  fg3_totals        25697 non-null  float64\n",
      " 27  ft_totals         25697 non-null  float64\n",
      "dtypes: float64(18), int64(8), object(2)\n",
      "memory usage: 5.5+ MB\n"
     ]
    }
   ],
   "source": [
    "df.info()"
   ]
  },
  {
   "cell_type": "code",
   "execution_count": 159,
   "id": "44cc8951",
   "metadata": {},
   "outputs": [],
   "source": [
    "#Variables objetivos a utilizar para nuestros modelos\n",
    "df_models = df[['FG_PCT_away', 'FT_PCT_away', 'FG3_PCT_away', 'AST_away', 'REB_away',\n",
    "                'FG_PCT_home', 'FT_PCT_home', 'FG3_PCT_home', 'AST_home', 'REB_home', 'HOME_TEAM_WINS']]"
   ]
  },
  {
   "cell_type": "code",
   "execution_count": 160,
   "id": "7a768995",
   "metadata": {},
   "outputs": [
    {
     "name": "stdout",
     "output_type": "stream",
     "text": [
      "<class 'pandas.core.frame.DataFrame'>\n",
      "RangeIndex: 25697 entries, 0 to 25696\n",
      "Data columns (total 11 columns):\n",
      " #   Column          Non-Null Count  Dtype  \n",
      "---  ------          --------------  -----  \n",
      " 0   FG_PCT_away     25697 non-null  float64\n",
      " 1   FT_PCT_away     25697 non-null  float64\n",
      " 2   FG3_PCT_away    25697 non-null  float64\n",
      " 3   AST_away        25697 non-null  float64\n",
      " 4   REB_away        25697 non-null  float64\n",
      " 5   FG_PCT_home     25697 non-null  float64\n",
      " 6   FT_PCT_home     25697 non-null  float64\n",
      " 7   FG3_PCT_home    25697 non-null  float64\n",
      " 8   AST_home        25697 non-null  float64\n",
      " 9   REB_home        25697 non-null  float64\n",
      " 10  HOME_TEAM_WINS  25697 non-null  int64  \n",
      "dtypes: float64(10), int64(1)\n",
      "memory usage: 2.2 MB\n"
     ]
    }
   ],
   "source": [
    "df_models.info()"
   ]
  },
  {
   "cell_type": "code",
   "execution_count": 161,
   "id": "1eebc408",
   "metadata": {},
   "outputs": [],
   "source": [
    "y = df_models['HOME_TEAM_WINS']\n",
    "X = df_models.drop(columns=['HOME_TEAM_WINS'])"
   ]
  },
  {
   "cell_type": "code",
   "execution_count": 162,
   "id": "07da5438",
   "metadata": {},
   "outputs": [],
   "source": [
    "X_train, X_test, y_train, y_test = train_test_split(X, y, test_size=0.2)"
   ]
  },
  {
   "cell_type": "code",
   "execution_count": 163,
   "id": "c3052aa7",
   "metadata": {},
   "outputs": [
    {
     "data": {
      "text/html": [
       "<style>#sk-container-id-11 {color: black;background-color: white;}#sk-container-id-11 pre{padding: 0;}#sk-container-id-11 div.sk-toggleable {background-color: white;}#sk-container-id-11 label.sk-toggleable__label {cursor: pointer;display: block;width: 100%;margin-bottom: 0;padding: 0.3em;box-sizing: border-box;text-align: center;}#sk-container-id-11 label.sk-toggleable__label-arrow:before {content: \"▸\";float: left;margin-right: 0.25em;color: #696969;}#sk-container-id-11 label.sk-toggleable__label-arrow:hover:before {color: black;}#sk-container-id-11 div.sk-estimator:hover label.sk-toggleable__label-arrow:before {color: black;}#sk-container-id-11 div.sk-toggleable__content {max-height: 0;max-width: 0;overflow: hidden;text-align: left;background-color: #f0f8ff;}#sk-container-id-11 div.sk-toggleable__content pre {margin: 0.2em;color: black;border-radius: 0.25em;background-color: #f0f8ff;}#sk-container-id-11 input.sk-toggleable__control:checked~div.sk-toggleable__content {max-height: 200px;max-width: 100%;overflow: auto;}#sk-container-id-11 input.sk-toggleable__control:checked~label.sk-toggleable__label-arrow:before {content: \"▾\";}#sk-container-id-11 div.sk-estimator input.sk-toggleable__control:checked~label.sk-toggleable__label {background-color: #d4ebff;}#sk-container-id-11 div.sk-label input.sk-toggleable__control:checked~label.sk-toggleable__label {background-color: #d4ebff;}#sk-container-id-11 input.sk-hidden--visually {border: 0;clip: rect(1px 1px 1px 1px);clip: rect(1px, 1px, 1px, 1px);height: 1px;margin: -1px;overflow: hidden;padding: 0;position: absolute;width: 1px;}#sk-container-id-11 div.sk-estimator {font-family: monospace;background-color: #f0f8ff;border: 1px dotted black;border-radius: 0.25em;box-sizing: border-box;margin-bottom: 0.5em;}#sk-container-id-11 div.sk-estimator:hover {background-color: #d4ebff;}#sk-container-id-11 div.sk-parallel-item::after {content: \"\";width: 100%;border-bottom: 1px solid gray;flex-grow: 1;}#sk-container-id-11 div.sk-label:hover label.sk-toggleable__label {background-color: #d4ebff;}#sk-container-id-11 div.sk-serial::before {content: \"\";position: absolute;border-left: 1px solid gray;box-sizing: border-box;top: 0;bottom: 0;left: 50%;z-index: 0;}#sk-container-id-11 div.sk-serial {display: flex;flex-direction: column;align-items: center;background-color: white;padding-right: 0.2em;padding-left: 0.2em;position: relative;}#sk-container-id-11 div.sk-item {position: relative;z-index: 1;}#sk-container-id-11 div.sk-parallel {display: flex;align-items: stretch;justify-content: center;background-color: white;position: relative;}#sk-container-id-11 div.sk-item::before, #sk-container-id-11 div.sk-parallel-item::before {content: \"\";position: absolute;border-left: 1px solid gray;box-sizing: border-box;top: 0;bottom: 0;left: 50%;z-index: -1;}#sk-container-id-11 div.sk-parallel-item {display: flex;flex-direction: column;z-index: 1;position: relative;background-color: white;}#sk-container-id-11 div.sk-parallel-item:first-child::after {align-self: flex-end;width: 50%;}#sk-container-id-11 div.sk-parallel-item:last-child::after {align-self: flex-start;width: 50%;}#sk-container-id-11 div.sk-parallel-item:only-child::after {width: 0;}#sk-container-id-11 div.sk-dashed-wrapped {border: 1px dashed gray;margin: 0 0.4em 0.5em 0.4em;box-sizing: border-box;padding-bottom: 0.4em;background-color: white;}#sk-container-id-11 div.sk-label label {font-family: monospace;font-weight: bold;display: inline-block;line-height: 1.2em;}#sk-container-id-11 div.sk-label-container {text-align: center;}#sk-container-id-11 div.sk-container {/* jupyter's `normalize.less` sets `[hidden] { display: none; }` but bootstrap.min.css set `[hidden] { display: none !important; }` so we also need the `!important` here to be able to override the default hidden behavior on the sphinx rendered scikit-learn.org. See: https://github.com/scikit-learn/scikit-learn/issues/21755 */display: inline-block !important;position: relative;}#sk-container-id-11 div.sk-text-repr-fallback {display: none;}</style><div id=\"sk-container-id-11\" class=\"sk-top-container\"><div class=\"sk-text-repr-fallback\"><pre>LogisticRegression()</pre><b>In a Jupyter environment, please rerun this cell to show the HTML representation or trust the notebook. <br />On GitHub, the HTML representation is unable to render, please try loading this page with nbviewer.org.</b></div><div class=\"sk-container\" hidden><div class=\"sk-item\"><div class=\"sk-estimator sk-toggleable\"><input class=\"sk-toggleable__control sk-hidden--visually\" id=\"sk-estimator-id-11\" type=\"checkbox\" checked><label for=\"sk-estimator-id-11\" class=\"sk-toggleable__label sk-toggleable__label-arrow\">LogisticRegression</label><div class=\"sk-toggleable__content\"><pre>LogisticRegression()</pre></div></div></div></div></div>"
      ],
      "text/plain": [
       "LogisticRegression()"
      ]
     },
     "execution_count": 163,
     "metadata": {},
     "output_type": "execute_result"
    }
   ],
   "source": [
    "lr = LogisticRegression()\n",
    "lr.fit(X_train, y_train)"
   ]
  },
  {
   "cell_type": "code",
   "execution_count": 164,
   "id": "ead24261",
   "metadata": {},
   "outputs": [],
   "source": [
    "y_pred_lr = lr.predict(X_test)"
   ]
  },
  {
   "cell_type": "code",
   "execution_count": 165,
   "id": "7cd1e308",
   "metadata": {},
   "outputs": [
    {
     "data": {
      "text/plain": [
       "0.8395680303546237"
      ]
     },
     "execution_count": 165,
     "metadata": {},
     "output_type": "execute_result"
    }
   ],
   "source": [
    "lr.score(X_train, y_train)"
   ]
  },
  {
   "cell_type": "code",
   "execution_count": 166,
   "id": "6c70a619",
   "metadata": {},
   "outputs": [
    {
     "data": {
      "text/plain": [
       "0.8433852140077821"
      ]
     },
     "execution_count": 166,
     "metadata": {},
     "output_type": "execute_result"
    }
   ],
   "source": [
    "lr.score(X_test, y_test)"
   ]
  },
  {
   "cell_type": "code",
   "execution_count": 167,
   "id": "f0f2c2d2",
   "metadata": {},
   "outputs": [
    {
     "data": {
      "text/plain": [
       "0.1566147859922179"
      ]
     },
     "execution_count": 167,
     "metadata": {},
     "output_type": "execute_result"
    }
   ],
   "source": [
    "mean_squared_error(y_pred_lr, y_test)"
   ]
  },
  {
   "cell_type": "code",
   "execution_count": 169,
   "id": "6cbb14e7",
   "metadata": {},
   "outputs": [],
   "source": [
    "#cross-validation utilizando 18 particiones de nuestros datos del modelo"
   ]
  },
  {
   "cell_type": "code",
   "execution_count": 170,
   "id": "ab58a32f",
   "metadata": {},
   "outputs": [],
   "source": [
    "score_validation = cross_val_score(lr, X, y, scoring = 'accuracy', cv = 18)"
   ]
  },
  {
   "cell_type": "code",
   "execution_count": 171,
   "id": "502ad0fe",
   "metadata": {},
   "outputs": [
    {
     "data": {
      "text/plain": [
       "array([0.85364146, 0.84803922, 0.83123249, 0.84593838, 0.83543417,\n",
       "       0.85994398, 0.84733894, 0.84313725, 0.83823529, 0.82072829,\n",
       "       0.82002801, 0.82410652, 0.83321654, 0.84512964, 0.84162579,\n",
       "       0.84092502, 0.84442887, 0.83111423])"
      ]
     },
     "execution_count": 171,
     "metadata": {},
     "output_type": "execute_result"
    }
   ],
   "source": [
    "score_validation"
   ]
  },
  {
   "cell_type": "code",
   "execution_count": 172,
   "id": "1b623d0f",
   "metadata": {},
   "outputs": [
    {
     "data": {
      "text/plain": [
       "0.8391246711251656"
      ]
     },
     "execution_count": 172,
     "metadata": {},
     "output_type": "execute_result"
    }
   ],
   "source": [
    "score_validation.mean()"
   ]
  },
  {
   "cell_type": "code",
   "execution_count": 173,
   "id": "5db946fd",
   "metadata": {},
   "outputs": [],
   "source": [
    "#Hiperparametros Multiclase para observar la precision de certitud de nuestro modelo"
   ]
  },
  {
   "cell_type": "code",
   "execution_count": 174,
   "id": "37dc380c",
   "metadata": {},
   "outputs": [
    {
     "data": {
      "text/plain": [
       "0.839310769085166"
      ]
     },
     "execution_count": 174,
     "metadata": {},
     "output_type": "execute_result"
    }
   ],
   "source": [
    "metrics.precision_score(y_test, y_pred_lr, average='macro')"
   ]
  },
  {
   "cell_type": "code",
   "execution_count": 175,
   "id": "efba4e04",
   "metadata": {},
   "outputs": [
    {
     "data": {
      "text/plain": [
       "0.8433852140077821"
      ]
     },
     "execution_count": 175,
     "metadata": {},
     "output_type": "execute_result"
    }
   ],
   "source": [
    "metrics.precision_score(y_test, y_pred_lr, average='micro')"
   ]
  },
  {
   "cell_type": "code",
   "execution_count": 176,
   "id": "ecd30d43",
   "metadata": {},
   "outputs": [
    {
     "data": {
      "text/plain": [
       "0.8429026098518995"
      ]
     },
     "execution_count": 176,
     "metadata": {},
     "output_type": "execute_result"
    }
   ],
   "source": [
    "metrics.precision_score(y_test, y_pred_lr, average='weighted')"
   ]
  },
  {
   "cell_type": "code",
   "execution_count": 177,
   "id": "ced3b6ef",
   "metadata": {},
   "outputs": [
    {
     "data": {
      "text/plain": [
       "0.8433852140077821"
      ]
     },
     "execution_count": 177,
     "metadata": {},
     "output_type": "execute_result"
    }
   ],
   "source": [
    "metrics.recall_score(y_test, y_pred_lr, average='weighted')"
   ]
  },
  {
   "cell_type": "code",
   "execution_count": 178,
   "id": "3d25158b",
   "metadata": {},
   "outputs": [
    {
     "data": {
      "text/plain": [
       "0.8430219050897751"
      ]
     },
     "execution_count": 178,
     "metadata": {},
     "output_type": "execute_result"
    }
   ],
   "source": [
    "metrics.f1_score(y_test, y_pred_lr, average='weighted')"
   ]
  },
  {
   "cell_type": "code",
   "execution_count": 179,
   "id": "9c074889",
   "metadata": {},
   "outputs": [],
   "source": [
    "#Matrix de confusion y de certitud de las predicciones"
   ]
  },
  {
   "cell_type": "code",
   "execution_count": 180,
   "id": "0f74da9b",
   "metadata": {},
   "outputs": [
    {
     "data": {
      "text/plain": [
       "array([[1683,  433],\n",
       "       [ 372, 2652]], dtype=int64)"
      ]
     },
     "execution_count": 180,
     "metadata": {},
     "output_type": "execute_result"
    }
   ],
   "source": [
    "confusion_matrix(y_test, y_pred_lr)"
   ]
  },
  {
   "cell_type": "code",
   "execution_count": 181,
   "id": "32498350",
   "metadata": {},
   "outputs": [
    {
     "data": {
      "image/png": "[encoded data removed]",
      "text/plain": [
       "<Figure size 432x288 with 2 Axes>"
      ]
     },
     "metadata": {
      "needs_background": "light"
     },
     "output_type": "display_data"
    }
   ],
   "source": [
    "Labels = ['Home Team Loss', 'Home Team Win']\n",
    "\n",
    "metrics.plot_confusion_matrix(lr, X_test, y_test, display_labels=Labels);"
   ]
  },
  {
   "cell_type": "code",
   "execution_count": 182,
   "id": "f131bf89",
   "metadata": {},
   "outputs": [
    {
     "name": "stdout",
     "output_type": "stream",
     "text": [
      "0.8782521681120747\n"
     ]
    }
   ],
   "source": [
    "prec = 2633 / (2633 + 365)\n",
    "print(prec)"
   ]
  },
  {
   "cell_type": "code",
   "execution_count": 183,
   "id": "7f0a5ba2",
   "metadata": {},
   "outputs": [
    {
     "name": "stdout",
     "output_type": "stream",
     "text": [
      "                precision    recall  f1-score   support\n",
      "\n",
      "Home Team Loss       0.82      0.78      0.80      8426\n",
      " Home Team Win       0.85      0.88      0.87     12131\n",
      "\n",
      "      accuracy                           0.84     20557\n",
      "     macro avg       0.84      0.83      0.83     20557\n",
      "  weighted avg       0.84      0.84      0.84     20557\n",
      "\n",
      "%%%%%%%%%%%%%%%%%%%%%%%%%%%%%%%%%%%%%%%%%%%%%%%%%%%%%%%%%%%%%%%%%%%%%%%%%%%%%%%%%%%%%%%%%%%%%%%%%%%%%%%%%%%%%%%%%%%%%%%%\n",
      "\n",
      "                precision    recall  f1-score   support\n",
      "\n",
      "Home Team Loss       0.82      0.80      0.81      2116\n",
      " Home Team Win       0.86      0.88      0.87      3024\n",
      "\n",
      "      accuracy                           0.84      5140\n",
      "     macro avg       0.84      0.84      0.84      5140\n",
      "  weighted avg       0.84      0.84      0.84      5140\n",
      "\n"
     ]
    }
   ],
   "source": [
    "class_names = ['Home Team Loss', 'Home Team Win']\n",
    "\n",
    "print(classification_report(y_train, lr.predict(X_train), target_names=class_names))\n",
    "\n",
    "print('%%%%'*30)\n",
    "print()\n",
    "\n",
    "print(classification_report(y_test, y_pred_lr, target_names=class_names))\n"
   ]
  },
  {
   "cell_type": "code",
   "execution_count": 184,
   "id": "fde164b8",
   "metadata": {},
   "outputs": [],
   "source": [
    "#Prediccion de un juego de post-temporada 2021-2022 entre Dallas Mavericks vs Golden State Warriors"
   ]
  },
  {
   "cell_type": "code",
   "execution_count": 192,
   "id": "73278dda",
   "metadata": {},
   "outputs": [
    {
     "data": {
      "text/html": [
       "<div>\n",
       "<style scoped>\n",
       "    .dataframe tbody tr th:only-of-type {\n",
       "        vertical-align: middle;\n",
       "    }\n",
       "\n",
       "    .dataframe tbody tr th {\n",
       "        vertical-align: top;\n",
       "    }\n",
       "\n",
       "    .dataframe thead th {\n",
       "        text-align: right;\n",
       "    }\n",
       "</style>\n",
       "<table border=\"1\" class=\"dataframe\">\n",
       "  <thead>\n",
       "    <tr style=\"text-align: right;\">\n",
       "      <th></th>\n",
       "      <th>FG_PCT_away</th>\n",
       "      <th>FT_PCT_away</th>\n",
       "      <th>FG3_PCT_away</th>\n",
       "      <th>AST_away</th>\n",
       "      <th>REB_away</th>\n",
       "      <th>FG_PCT_home</th>\n",
       "      <th>FT_PCT_home</th>\n",
       "      <th>FG3_PCT_home</th>\n",
       "      <th>AST_home</th>\n",
       "      <th>REB_home</th>\n",
       "    </tr>\n",
       "  </thead>\n",
       "  <tbody>\n",
       "    <tr>\n",
       "      <th>0</th>\n",
       "      <td>0.422</td>\n",
       "      <td>0.875</td>\n",
       "      <td>0.357</td>\n",
       "      <td>21.0</td>\n",
       "      <td>46.0</td>\n",
       "      <td>0.398</td>\n",
       "      <td>0.76</td>\n",
       "      <td>0.333</td>\n",
       "      <td>23.0</td>\n",
       "      <td>53.0</td>\n",
       "    </tr>\n",
       "  </tbody>\n",
       "</table>\n",
       "</div>"
      ],
      "text/plain": [
       "   FG_PCT_away  FT_PCT_away  FG3_PCT_away  AST_away  REB_away  FG_PCT_home  \\\n",
       "0        0.422        0.875         0.357      21.0      46.0        0.398   \n",
       "\n",
       "   FT_PCT_home  FG3_PCT_home  AST_home  REB_home  \n",
       "0         0.76         0.333      23.0      53.0  "
      ]
     },
     "execution_count": 192,
     "metadata": {},
     "output_type": "execute_result"
    }
   ],
   "source": [
    "X.head(1)"
   ]
  },
  {
   "cell_type": "code",
   "execution_count": 195,
   "id": "41a448e1",
   "metadata": {},
   "outputs": [],
   "source": [
    "new_data = np.array([[0.44, 0.77, 0.37, 19.0, 36.6, 0.49, 0.74, 0.37, 27.8, 44.3]])"
   ]
  },
  {
   "cell_type": "code",
   "execution_count": 196,
   "id": "6e4b8007",
   "metadata": {},
   "outputs": [
    {
     "data": {
      "text/plain": [
       "array([1], dtype=int64)"
      ]
     },
     "execution_count": 196,
     "metadata": {},
     "output_type": "execute_result"
    }
   ],
   "source": [
    "lr.predict(new_data)"
   ]
  },
  {
   "cell_type": "code",
   "execution_count": 188,
   "id": "c4f619d1",
   "metadata": {},
   "outputs": [
    {
     "data": {
      "text/plain": [
       "array([0.51382013, 0.93507401, 0.22315935, ..., 0.92244737, 0.20220338,\n",
       "       0.27014174])"
      ]
     },
     "execution_count": 188,
     "metadata": {},
     "output_type": "execute_result"
    }
   ],
   "source": [
    "lr.predict_proba(X)[::, 1]"
   ]
  },
  {
   "cell_type": "code",
   "execution_count": 189,
   "id": "356191e7",
   "metadata": {},
   "outputs": [
    {
     "data": {
      "text/plain": [
       "array([0.51382013, 0.93507401, 0.22315935, ..., 0.92244737, 0.20220338,\n",
       "       0.27014174])"
      ]
     },
     "execution_count": 189,
     "metadata": {},
     "output_type": "execute_result"
    }
   ],
   "source": [
    "y_pred_prob = lr.predict_proba(X)[::, 1]\n",
    "y_pred_prob"
   ]
  },
  {
   "cell_type": "code",
   "execution_count": 190,
   "id": "84211f3a",
   "metadata": {},
   "outputs": [
    {
     "data": {
      "image/png": "[encoded data removed]",
      "text/plain": [
       "<Figure size 432x288 with 1 Axes>"
      ]
     },
     "metadata": {
      "needs_background": "light"
     },
     "output_type": "display_data"
    }
   ],
   "source": [
    "# False positive rate \n",
    "# True positive rate\n",
    "fpr, tpr, _  = roc_curve(y, y_pred_prob)\n",
    "auc = roc_auc_score(y, y_pred_prob)\n",
    "plt.plot(fpr, tpr);"
   ]
  },
  {
   "cell_type": "code",
   "execution_count": 191,
   "id": "2189450f",
   "metadata": {},
   "outputs": [
    {
     "data": {
      "text/plain": [
       "0.923129333070696"
      ]
     },
     "execution_count": 191,
     "metadata": {},
     "output_type": "execute_result"
    }
   ],
   "source": [
    "auc"
   ]
  },
  {
   "cell_type": "code",
   "execution_count": 27,
   "id": "f6f6bc0e",
   "metadata": {},
   "outputs": [],
   "source": [
    "#Modelos de Clasificacion Supervisada para ver el comportamiento de los coeficientes de certitud y determinacion"
   ]
  },
  {
   "cell_type": "code",
   "execution_count": 28,
   "id": "8cad72c9",
   "metadata": {},
   "outputs": [],
   "source": [
    "#DecisionTreeClassifier"
   ]
  },
  {
   "cell_type": "code",
   "execution_count": 29,
   "id": "bf604be2",
   "metadata": {},
   "outputs": [],
   "source": [
    "X_train, X_test, y_train, y_test = train_test_split(X, y, test_size=0.3)"
   ]
  },
  {
   "cell_type": "code",
   "execution_count": 30,
   "id": "bdb5c94d",
   "metadata": {},
   "outputs": [
    {
     "data": {
      "text/plain": [
       "(17987, 10)"
      ]
     },
     "execution_count": 30,
     "metadata": {},
     "output_type": "execute_result"
    }
   ],
   "source": [
    "X_train.shape"
   ]
  },
  {
   "cell_type": "code",
   "execution_count": 31,
   "id": "6d01f734",
   "metadata": {},
   "outputs": [
    {
     "data": {
      "text/html": [
       "<style>#sk-container-id-2 {color: black;background-color: white;}#sk-container-id-2 pre{padding: 0;}#sk-container-id-2 div.sk-toggleable {background-color: white;}#sk-container-id-2 label.sk-toggleable__label {cursor: pointer;display: block;width: 100%;margin-bottom: 0;padding: 0.3em;box-sizing: border-box;text-align: center;}#sk-container-id-2 label.sk-toggleable__label-arrow:before {content: \"▸\";float: left;margin-right: 0.25em;color: #696969;}#sk-container-id-2 label.sk-toggleable__label-arrow:hover:before {color: black;}#sk-container-id-2 div.sk-estimator:hover label.sk-toggleable__label-arrow:before {color: black;}#sk-container-id-2 div.sk-toggleable__content {max-height: 0;max-width: 0;overflow: hidden;text-align: left;background-color: #f0f8ff;}#sk-container-id-2 div.sk-toggleable__content pre {margin: 0.2em;color: black;border-radius: 0.25em;background-color: #f0f8ff;}#sk-container-id-2 input.sk-toggleable__control:checked~div.sk-toggleable__content {max-height: 200px;max-width: 100%;overflow: auto;}#sk-container-id-2 input.sk-toggleable__control:checked~label.sk-toggleable__label-arrow:before {content: \"▾\";}#sk-container-id-2 div.sk-estimator input.sk-toggleable__control:checked~label.sk-toggleable__label {background-color: #d4ebff;}#sk-container-id-2 div.sk-label input.sk-toggleable__control:checked~label.sk-toggleable__label {background-color: #d4ebff;}#sk-container-id-2 input.sk-hidden--visually {border: 0;clip: rect(1px 1px 1px 1px);clip: rect(1px, 1px, 1px, 1px);height: 1px;margin: -1px;overflow: hidden;padding: 0;position: absolute;width: 1px;}#sk-container-id-2 div.sk-estimator {font-family: monospace;background-color: #f0f8ff;border: 1px dotted black;border-radius: 0.25em;box-sizing: border-box;margin-bottom: 0.5em;}#sk-container-id-2 div.sk-estimator:hover {background-color: #d4ebff;}#sk-container-id-2 div.sk-parallel-item::after {content: \"\";width: 100%;border-bottom: 1px solid gray;flex-grow: 1;}#sk-container-id-2 div.sk-label:hover label.sk-toggleable__label {background-color: #d4ebff;}#sk-container-id-2 div.sk-serial::before {content: \"\";position: absolute;border-left: 1px solid gray;box-sizing: border-box;top: 0;bottom: 0;left: 50%;z-index: 0;}#sk-container-id-2 div.sk-serial {display: flex;flex-direction: column;align-items: center;background-color: white;padding-right: 0.2em;padding-left: 0.2em;position: relative;}#sk-container-id-2 div.sk-item {position: relative;z-index: 1;}#sk-container-id-2 div.sk-parallel {display: flex;align-items: stretch;justify-content: center;background-color: white;position: relative;}#sk-container-id-2 div.sk-item::before, #sk-container-id-2 div.sk-parallel-item::before {content: \"\";position: absolute;border-left: 1px solid gray;box-sizing: border-box;top: 0;bottom: 0;left: 50%;z-index: -1;}#sk-container-id-2 div.sk-parallel-item {display: flex;flex-direction: column;z-index: 1;position: relative;background-color: white;}#sk-container-id-2 div.sk-parallel-item:first-child::after {align-self: flex-end;width: 50%;}#sk-container-id-2 div.sk-parallel-item:last-child::after {align-self: flex-start;width: 50%;}#sk-container-id-2 div.sk-parallel-item:only-child::after {width: 0;}#sk-container-id-2 div.sk-dashed-wrapped {border: 1px dashed gray;margin: 0 0.4em 0.5em 0.4em;box-sizing: border-box;padding-bottom: 0.4em;background-color: white;}#sk-container-id-2 div.sk-label label {font-family: monospace;font-weight: bold;display: inline-block;line-height: 1.2em;}#sk-container-id-2 div.sk-label-container {text-align: center;}#sk-container-id-2 div.sk-container {/* jupyter's `normalize.less` sets `[hidden] { display: none; }` but bootstrap.min.css set `[hidden] { display: none !important; }` so we also need the `!important` here to be able to override the default hidden behavior on the sphinx rendered scikit-learn.org. See: https://github.com/scikit-learn/scikit-learn/issues/21755 */display: inline-block !important;position: relative;}#sk-container-id-2 div.sk-text-repr-fallback {display: none;}</style><div id=\"sk-container-id-2\" class=\"sk-top-container\"><div class=\"sk-text-repr-fallback\"><pre>DecisionTreeClassifier(max_depth=4, random_state=0)</pre><b>In a Jupyter environment, please rerun this cell to show the HTML representation or trust the notebook. <br />On GitHub, the HTML representation is unable to render, please try loading this page with nbviewer.org.</b></div><div class=\"sk-container\" hidden><div class=\"sk-item\"><div class=\"sk-estimator sk-toggleable\"><input class=\"sk-toggleable__control sk-hidden--visually\" id=\"sk-estimator-id-2\" type=\"checkbox\" checked><label for=\"sk-estimator-id-2\" class=\"sk-toggleable__label sk-toggleable__label-arrow\">DecisionTreeClassifier</label><div class=\"sk-toggleable__content\"><pre>DecisionTreeClassifier(max_depth=4, random_state=0)</pre></div></div></div></div></div>"
      ],
      "text/plain": [
       "DecisionTreeClassifier(max_depth=4, random_state=0)"
      ]
     },
     "execution_count": 31,
     "metadata": {},
     "output_type": "execute_result"
    }
   ],
   "source": [
    "params = {'random_state': 0, 'max_depth': 4}\n",
    "tree_Team = DecisionTreeClassifier(**params)\n",
    "tree_Team.fit(X_train, y_train)"
   ]
  },
  {
   "cell_type": "code",
   "execution_count": 32,
   "id": "f95f1f51",
   "metadata": {},
   "outputs": [
    {
     "data": {
      "text/plain": [
       "array([1, 1, 0, ..., 1, 0, 1], dtype=int64)"
      ]
     },
     "execution_count": 32,
     "metadata": {},
     "output_type": "execute_result"
    }
   ],
   "source": [
    "y_predict_tree = tree_Team.predict(X_test)\n",
    "y_predict_tree"
   ]
  },
  {
   "cell_type": "code",
   "execution_count": 33,
   "id": "2f231a03",
   "metadata": {},
   "outputs": [
    {
     "data": {
      "text/plain": [
       "(0.794240284650025, 0.7800259403372244)"
      ]
     },
     "execution_count": 33,
     "metadata": {},
     "output_type": "execute_result"
    }
   ],
   "source": [
    "tree_Team.score(X_train, y_train), tree_Team.score(X_test, y_test)"
   ]
  },
  {
   "cell_type": "code",
   "execution_count": 34,
   "id": "33a0d15b",
   "metadata": {},
   "outputs": [
    {
     "data": {
      "image/png": "[encoded data removed]",
      "text/plain": [
       "<Figure size 1800x1440 with 1 Axes>"
      ]
     },
     "metadata": {
      "needs_background": "light"
     },
     "output_type": "display_data"
    }
   ],
   "source": [
    "plt.figure(figsize=(25, 20))\n",
    "fig = tree.plot_tree(tree_Team)"
   ]
  },
  {
   "cell_type": "code",
   "execution_count": 35,
   "id": "02b43f2a",
   "metadata": {},
   "outputs": [
    {
     "name": "stdout",
     "output_type": "stream",
     "text": [
      "                precision    recall  f1-score   support\n",
      "\n",
      "Home Team Loss       0.77      0.71      0.74      7295\n",
      " Home Team Win       0.81      0.85      0.83     10692\n",
      "\n",
      "      accuracy                           0.79     17987\n",
      "     macro avg       0.79      0.78      0.78     17987\n",
      "  weighted avg       0.79      0.79      0.79     17987\n",
      "\n",
      "%%%%%%%%%%%%%%%%%%%%%%%%%%%%%%%%%%%%%%%%%%%%%%%%%%%%%%%%%%%%%%%%%%%%%%%%%%%%%%%%%%%%%%%%%%%%%%%%%%%%%%%%%%%%%%%%%%%%%%%%\n",
      "\n",
      "                precision    recall  f1-score   support\n",
      "\n",
      "Home Team Loss       0.77      0.68      0.72      3247\n",
      " Home Team Win       0.79      0.85      0.82      4463\n",
      "\n",
      "      accuracy                           0.78      7710\n",
      "     macro avg       0.78      0.77      0.77      7710\n",
      "  weighted avg       0.78      0.78      0.78      7710\n",
      "\n"
     ]
    }
   ],
   "source": [
    "class_names = ['Home Team Loss', 'Home Team Win']\n",
    "\n",
    "print(classification_report(y_train, tree_Team.predict(X_train), target_names=class_names))\n",
    "\n",
    "print('%%%%'*30)\n",
    "print()\n",
    "\n",
    "print(classification_report(y_test, y_predict_tree, target_names=class_names))"
   ]
  },
  {
   "cell_type": "code",
   "execution_count": 36,
   "id": "ae4e27ad",
   "metadata": {},
   "outputs": [
    {
     "data": {
      "image/png": "[encoded data removed]",
      "text/plain": [
       "<Figure size 432x288 with 2 Axes>"
      ]
     },
     "metadata": {
      "needs_background": "light"
     },
     "output_type": "display_data"
    }
   ],
   "source": [
    "Labels = ['Home Team Loss', 'Home Team Win']\n",
    "\n",
    "metrics.plot_confusion_matrix(tree_Team, X_test, y_test, display_labels=Labels);"
   ]
  },
  {
   "cell_type": "code",
   "execution_count": 37,
   "id": "dff0d4e0",
   "metadata": {},
   "outputs": [
    {
     "data": {
      "text/plain": [
       "7710"
      ]
     },
     "execution_count": 37,
     "metadata": {},
     "output_type": "execute_result"
    }
   ],
   "source": [
    "len(X_test)"
   ]
  },
  {
   "cell_type": "code",
   "execution_count": 38,
   "id": "bd3abf9e",
   "metadata": {},
   "outputs": [
    {
     "data": {
      "text/plain": [
       "(7710, 2)"
      ]
     },
     "execution_count": 38,
     "metadata": {},
     "output_type": "execute_result"
    }
   ],
   "source": [
    "tree_Team.predict_proba(X_test).shape"
   ]
  },
  {
   "cell_type": "code",
   "execution_count": 39,
   "id": "743217ef",
   "metadata": {},
   "outputs": [
    {
     "data": {
      "text/plain": [
       "array([0.7089372 , 0.63986014, 0.21232123, ..., 0.99186391, 0.41394201,\n",
       "       0.62564103])"
      ]
     },
     "execution_count": 39,
     "metadata": {},
     "output_type": "execute_result"
    }
   ],
   "source": [
    "tree_Team.predict_proba(X_test)[::, 1]"
   ]
  },
  {
   "cell_type": "code",
   "execution_count": 40,
   "id": "2161ec47",
   "metadata": {},
   "outputs": [
    {
     "data": {
      "image/png": "[encoded data removed]",
      "text/plain": [
       "<Figure size 432x288 with 1 Axes>"
      ]
     },
     "metadata": {
      "needs_background": "light"
     },
     "output_type": "display_data"
    }
   ],
   "source": [
    "y_pred_prob = tree_Team.predict_proba(X_test)[::, 1]\n",
    "\n",
    "fpr, tpr, _ = metrics.roc_curve(y_test, y_pred_prob)\n",
    "auc = metrics.roc_auc_score(y_test, y_pred_prob)\n",
    "\n",
    "plt.plot(fpr, tpr);"
   ]
  },
  {
   "cell_type": "code",
   "execution_count": 41,
   "id": "77483b46",
   "metadata": {},
   "outputs": [
    {
     "data": {
      "text/plain": [
       "0.8559397906104195"
      ]
     },
     "execution_count": 41,
     "metadata": {},
     "output_type": "execute_result"
    }
   ],
   "source": [
    "auc"
   ]
  },
  {
   "cell_type": "code",
   "execution_count": 42,
   "id": "8551d07f",
   "metadata": {},
   "outputs": [],
   "source": [
    "#Random Forest Classifier"
   ]
  },
  {
   "cell_type": "code",
   "execution_count": 106,
   "id": "03f0aa9d",
   "metadata": {},
   "outputs": [
    {
     "data": {
      "text/html": [
       "<style>#sk-container-id-8 {color: black;background-color: white;}#sk-container-id-8 pre{padding: 0;}#sk-container-id-8 div.sk-toggleable {background-color: white;}#sk-container-id-8 label.sk-toggleable__label {cursor: pointer;display: block;width: 100%;margin-bottom: 0;padding: 0.3em;box-sizing: border-box;text-align: center;}#sk-container-id-8 label.sk-toggleable__label-arrow:before {content: \"▸\";float: left;margin-right: 0.25em;color: #696969;}#sk-container-id-8 label.sk-toggleable__label-arrow:hover:before {color: black;}#sk-container-id-8 div.sk-estimator:hover label.sk-toggleable__label-arrow:before {color: black;}#sk-container-id-8 div.sk-toggleable__content {max-height: 0;max-width: 0;overflow: hidden;text-align: left;background-color: #f0f8ff;}#sk-container-id-8 div.sk-toggleable__content pre {margin: 0.2em;color: black;border-radius: 0.25em;background-color: #f0f8ff;}#sk-container-id-8 input.sk-toggleable__control:checked~div.sk-toggleable__content {max-height: 200px;max-width: 100%;overflow: auto;}#sk-container-id-8 input.sk-toggleable__control:checked~label.sk-toggleable__label-arrow:before {content: \"▾\";}#sk-container-id-8 div.sk-estimator input.sk-toggleable__control:checked~label.sk-toggleable__label {background-color: #d4ebff;}#sk-container-id-8 div.sk-label input.sk-toggleable__control:checked~label.sk-toggleable__label {background-color: #d4ebff;}#sk-container-id-8 input.sk-hidden--visually {border: 0;clip: rect(1px 1px 1px 1px);clip: rect(1px, 1px, 1px, 1px);height: 1px;margin: -1px;overflow: hidden;padding: 0;position: absolute;width: 1px;}#sk-container-id-8 div.sk-estimator {font-family: monospace;background-color: #f0f8ff;border: 1px dotted black;border-radius: 0.25em;box-sizing: border-box;margin-bottom: 0.5em;}#sk-container-id-8 div.sk-estimator:hover {background-color: #d4ebff;}#sk-container-id-8 div.sk-parallel-item::after {content: \"\";width: 100%;border-bottom: 1px solid gray;flex-grow: 1;}#sk-container-id-8 div.sk-label:hover label.sk-toggleable__label {background-color: #d4ebff;}#sk-container-id-8 div.sk-serial::before {content: \"\";position: absolute;border-left: 1px solid gray;box-sizing: border-box;top: 0;bottom: 0;left: 50%;z-index: 0;}#sk-container-id-8 div.sk-serial {display: flex;flex-direction: column;align-items: center;background-color: white;padding-right: 0.2em;padding-left: 0.2em;position: relative;}#sk-container-id-8 div.sk-item {position: relative;z-index: 1;}#sk-container-id-8 div.sk-parallel {display: flex;align-items: stretch;justify-content: center;background-color: white;position: relative;}#sk-container-id-8 div.sk-item::before, #sk-container-id-8 div.sk-parallel-item::before {content: \"\";position: absolute;border-left: 1px solid gray;box-sizing: border-box;top: 0;bottom: 0;left: 50%;z-index: -1;}#sk-container-id-8 div.sk-parallel-item {display: flex;flex-direction: column;z-index: 1;position: relative;background-color: white;}#sk-container-id-8 div.sk-parallel-item:first-child::after {align-self: flex-end;width: 50%;}#sk-container-id-8 div.sk-parallel-item:last-child::after {align-self: flex-start;width: 50%;}#sk-container-id-8 div.sk-parallel-item:only-child::after {width: 0;}#sk-container-id-8 div.sk-dashed-wrapped {border: 1px dashed gray;margin: 0 0.4em 0.5em 0.4em;box-sizing: border-box;padding-bottom: 0.4em;background-color: white;}#sk-container-id-8 div.sk-label label {font-family: monospace;font-weight: bold;display: inline-block;line-height: 1.2em;}#sk-container-id-8 div.sk-label-container {text-align: center;}#sk-container-id-8 div.sk-container {/* jupyter's `normalize.less` sets `[hidden] { display: none; }` but bootstrap.min.css set `[hidden] { display: none !important; }` so we also need the `!important` here to be able to override the default hidden behavior on the sphinx rendered scikit-learn.org. See: https://github.com/scikit-learn/scikit-learn/issues/21755 */display: inline-block !important;position: relative;}#sk-container-id-8 div.sk-text-repr-fallback {display: none;}</style><div id=\"sk-container-id-8\" class=\"sk-top-container\"><div class=\"sk-text-repr-fallback\"><pre>RandomForestClassifier(max_depth=4, random_state=0)</pre><b>In a Jupyter environment, please rerun this cell to show the HTML representation or trust the notebook. <br />On GitHub, the HTML representation is unable to render, please try loading this page with nbviewer.org.</b></div><div class=\"sk-container\" hidden><div class=\"sk-item\"><div class=\"sk-estimator sk-toggleable\"><input class=\"sk-toggleable__control sk-hidden--visually\" id=\"sk-estimator-id-8\" type=\"checkbox\" checked><label for=\"sk-estimator-id-8\" class=\"sk-toggleable__label sk-toggleable__label-arrow\">RandomForestClassifier</label><div class=\"sk-toggleable__content\"><pre>RandomForestClassifier(max_depth=4, random_state=0)</pre></div></div></div></div></div>"
      ],
      "text/plain": [
       "RandomForestClassifier(max_depth=4, random_state=0)"
      ]
     },
     "execution_count": 106,
     "metadata": {},
     "output_type": "execute_result"
    }
   ],
   "source": [
    "forest = RandomForestClassifier(n_estimators=100, max_depth=4, random_state=0)\n",
    "forest.fit(X_train, y_train)"
   ]
  },
  {
   "cell_type": "code",
   "execution_count": 107,
   "id": "6003f096",
   "metadata": {},
   "outputs": [
    {
     "data": {
      "text/html": [
       "<div>\n",
       "<style scoped>\n",
       "    .dataframe tbody tr th:only-of-type {\n",
       "        vertical-align: middle;\n",
       "    }\n",
       "\n",
       "    .dataframe tbody tr th {\n",
       "        vertical-align: top;\n",
       "    }\n",
       "\n",
       "    .dataframe thead th {\n",
       "        text-align: right;\n",
       "    }\n",
       "</style>\n",
       "<table border=\"1\" class=\"dataframe\">\n",
       "  <thead>\n",
       "    <tr style=\"text-align: right;\">\n",
       "      <th></th>\n",
       "      <th>Actual</th>\n",
       "      <th>Predicted</th>\n",
       "    </tr>\n",
       "  </thead>\n",
       "  <tbody>\n",
       "    <tr>\n",
       "      <th>21727</th>\n",
       "      <td>1</td>\n",
       "      <td>1</td>\n",
       "    </tr>\n",
       "    <tr>\n",
       "      <th>423</th>\n",
       "      <td>1</td>\n",
       "      <td>1</td>\n",
       "    </tr>\n",
       "    <tr>\n",
       "      <th>13076</th>\n",
       "      <td>0</td>\n",
       "      <td>1</td>\n",
       "    </tr>\n",
       "    <tr>\n",
       "      <th>13352</th>\n",
       "      <td>1</td>\n",
       "      <td>1</td>\n",
       "    </tr>\n",
       "    <tr>\n",
       "      <th>1200</th>\n",
       "      <td>1</td>\n",
       "      <td>1</td>\n",
       "    </tr>\n",
       "  </tbody>\n",
       "</table>\n",
       "</div>"
      ],
      "text/plain": [
       "       Actual  Predicted\n",
       "21727       1          1\n",
       "423         1          1\n",
       "13076       0          1\n",
       "13352       1          1\n",
       "1200        1          1"
      ]
     },
     "execution_count": 107,
     "metadata": {},
     "output_type": "execute_result"
    }
   ],
   "source": [
    "y_pred_forest = forest.predict(X_test)\n",
    "df_predict = pd.DataFrame({'Actual': y_test, 'Predicted': y_pred_forest})\n",
    "df_predict.head()"
   ]
  },
  {
   "cell_type": "code",
   "execution_count": 108,
   "id": "d41b7def",
   "metadata": {},
   "outputs": [
    {
     "name": "stdout",
     "output_type": "stream",
     "text": [
      "                precision    recall  f1-score   support\n",
      "\n",
      "Home Team Loss       0.82      0.69      0.75      2128\n",
      " Home Team Win       0.80      0.89      0.84      3012\n",
      "\n",
      "      accuracy                           0.81      5140\n",
      "     macro avg       0.81      0.79      0.80      5140\n",
      "  weighted avg       0.81      0.81      0.80      5140\n",
      "\n"
     ]
    }
   ],
   "source": [
    "class_names = ['Home Team Loss', 'Home Team Win']\n",
    "print(classification_report(y_test, y_pred_forest, target_names=class_names ))"
   ]
  },
  {
   "cell_type": "code",
   "execution_count": 109,
   "id": "c9ba3bd7",
   "metadata": {},
   "outputs": [
    {
     "data": {
      "image/png": "[encoded data removed]",
      "text/plain": [
       "<Figure size 432x288 with 2 Axes>"
      ]
     },
     "metadata": {
      "needs_background": "light"
     },
     "output_type": "display_data"
    }
   ],
   "source": [
    "Labels = ['Home Team Loss', 'Home Team Win']\n",
    "\n",
    "metrics.plot_confusion_matrix(forest, X_test, y_test, display_labels=Labels);"
   ]
  },
  {
   "cell_type": "code",
   "execution_count": null,
   "id": "521ff16f",
   "metadata": {},
   "outputs": [],
   "source": [
    "#Extra Tree Classifier"
   ]
  },
  {
   "cell_type": "code",
   "execution_count": 110,
   "id": "df93a8a1",
   "metadata": {},
   "outputs": [
    {
     "name": "stdout",
     "output_type": "stream",
     "text": [
      "                precision    recall  f1-score   support\n",
      "\n",
      "Home Team Loss       0.92      0.53      0.67      8414\n",
      " Home Team Win       0.75      0.97      0.84     12143\n",
      "\n",
      "      accuracy                           0.79     20557\n",
      "     macro avg       0.83      0.75      0.76     20557\n",
      "  weighted avg       0.82      0.79      0.77     20557\n",
      "\n"
     ]
    }
   ],
   "source": [
    "extra_tree = ExtraTreesClassifier(n_estimators=100, max_depth=4, random_state=0)\n",
    "extra_tree.fit(X_train, y_train)\n",
    "y_pred_extra = extra_tree.predict(X_train)\n",
    "print(classification_report(y_train, y_pred_extra, target_names=class_names))"
   ]
  },
  {
   "cell_type": "code",
   "execution_count": 111,
   "id": "8d70b762",
   "metadata": {},
   "outputs": [
    {
     "name": "stdout",
     "output_type": "stream",
     "text": [
      "                precision    recall  f1-score   support\n",
      "\n",
      "Home Team Loss       0.96      0.38      0.54      2128\n",
      " Home Team Win       0.69      0.99      0.81      3012\n",
      "\n",
      "      accuracy                           0.74      5140\n",
      "     macro avg       0.83      0.68      0.68      5140\n",
      "  weighted avg       0.80      0.74      0.70      5140\n",
      "\n"
     ]
    }
   ],
   "source": [
    "extra_tree = ExtraTreesClassifier(n_estimators=100, max_depth=3, random_state=0)\n",
    "extra_tree.fit(X_train, y_train)\n",
    "y_pred_extraC = extra_tree.predict(X_test)\n",
    "print(classification_report(y_test, y_pred_extraC, target_names=class_names))"
   ]
  },
  {
   "cell_type": "code",
   "execution_count": 112,
   "id": "0399d9d9",
   "metadata": {},
   "outputs": [
    {
     "data": {
      "image/png": "[encoded data removed]",
      "text/plain": [
       "<Figure size 432x288 with 2 Axes>"
      ]
     },
     "metadata": {
      "needs_background": "light"
     },
     "output_type": "display_data"
    }
   ],
   "source": [
    "Labels = ['Home Team Loss', 'Home Team Win']\n",
    "\n",
    "metrics.plot_confusion_matrix(extra_tree, X_test, y_test, display_labels=Labels);"
   ]
  },
  {
   "cell_type": "code",
   "execution_count": 113,
   "id": "bba1c100",
   "metadata": {},
   "outputs": [
    {
     "data": {
      "text/plain": [
       "array([0.7162306 , 0.65331246, 0.58449511, ..., 0.61703448, 0.65566074,\n",
       "       0.72376944])"
      ]
     },
     "execution_count": 113,
     "metadata": {},
     "output_type": "execute_result"
    }
   ],
   "source": [
    "extra_tree.predict_proba(X_test)[::, 1]"
   ]
  },
  {
   "cell_type": "code",
   "execution_count": 114,
   "id": "82f63136",
   "metadata": {},
   "outputs": [
    {
     "data": {
      "image/png": "[encoded data removed]",
      "text/plain": [
       "<Figure size 432x288 with 1 Axes>"
      ]
     },
     "metadata": {
      "needs_background": "light"
     },
     "output_type": "display_data"
    }
   ],
   "source": [
    "y_pred_prob = extra_tree.predict_proba(X_test)[::, 1]\n",
    "\n",
    "fpr, tpr, _ = metrics.roc_curve(y_test, y_pred_prob)\n",
    "auc = metrics.roc_auc_score(y_test, y_pred_prob)\n",
    "\n",
    "plt.plot(fpr, tpr);"
   ]
  },
  {
   "cell_type": "code",
   "execution_count": 115,
   "id": "56803d0e",
   "metadata": {},
   "outputs": [
    {
     "data": {
      "text/plain": [
       "0.9128779368740576"
      ]
     },
     "execution_count": 115,
     "metadata": {},
     "output_type": "execute_result"
    }
   ],
   "source": [
    "auc"
   ]
  },
  {
   "cell_type": "code",
   "execution_count": 116,
   "id": "2f2b2408",
   "metadata": {},
   "outputs": [],
   "source": [
    "#SVM"
   ]
  },
  {
   "cell_type": "code",
   "execution_count": 117,
   "id": "0ed76fa7",
   "metadata": {},
   "outputs": [
    {
     "data": {
      "text/html": [
       "<style>#sk-container-id-9 {color: black;background-color: white;}#sk-container-id-9 pre{padding: 0;}#sk-container-id-9 div.sk-toggleable {background-color: white;}#sk-container-id-9 label.sk-toggleable__label {cursor: pointer;display: block;width: 100%;margin-bottom: 0;padding: 0.3em;box-sizing: border-box;text-align: center;}#sk-container-id-9 label.sk-toggleable__label-arrow:before {content: \"▸\";float: left;margin-right: 0.25em;color: #696969;}#sk-container-id-9 label.sk-toggleable__label-arrow:hover:before {color: black;}#sk-container-id-9 div.sk-estimator:hover label.sk-toggleable__label-arrow:before {color: black;}#sk-container-id-9 div.sk-toggleable__content {max-height: 0;max-width: 0;overflow: hidden;text-align: left;background-color: #f0f8ff;}#sk-container-id-9 div.sk-toggleable__content pre {margin: 0.2em;color: black;border-radius: 0.25em;background-color: #f0f8ff;}#sk-container-id-9 input.sk-toggleable__control:checked~div.sk-toggleable__content {max-height: 200px;max-width: 100%;overflow: auto;}#sk-container-id-9 input.sk-toggleable__control:checked~label.sk-toggleable__label-arrow:before {content: \"▾\";}#sk-container-id-9 div.sk-estimator input.sk-toggleable__control:checked~label.sk-toggleable__label {background-color: #d4ebff;}#sk-container-id-9 div.sk-label input.sk-toggleable__control:checked~label.sk-toggleable__label {background-color: #d4ebff;}#sk-container-id-9 input.sk-hidden--visually {border: 0;clip: rect(1px 1px 1px 1px);clip: rect(1px, 1px, 1px, 1px);height: 1px;margin: -1px;overflow: hidden;padding: 0;position: absolute;width: 1px;}#sk-container-id-9 div.sk-estimator {font-family: monospace;background-color: #f0f8ff;border: 1px dotted black;border-radius: 0.25em;box-sizing: border-box;margin-bottom: 0.5em;}#sk-container-id-9 div.sk-estimator:hover {background-color: #d4ebff;}#sk-container-id-9 div.sk-parallel-item::after {content: \"\";width: 100%;border-bottom: 1px solid gray;flex-grow: 1;}#sk-container-id-9 div.sk-label:hover label.sk-toggleable__label {background-color: #d4ebff;}#sk-container-id-9 div.sk-serial::before {content: \"\";position: absolute;border-left: 1px solid gray;box-sizing: border-box;top: 0;bottom: 0;left: 50%;z-index: 0;}#sk-container-id-9 div.sk-serial {display: flex;flex-direction: column;align-items: center;background-color: white;padding-right: 0.2em;padding-left: 0.2em;position: relative;}#sk-container-id-9 div.sk-item {position: relative;z-index: 1;}#sk-container-id-9 div.sk-parallel {display: flex;align-items: stretch;justify-content: center;background-color: white;position: relative;}#sk-container-id-9 div.sk-item::before, #sk-container-id-9 div.sk-parallel-item::before {content: \"\";position: absolute;border-left: 1px solid gray;box-sizing: border-box;top: 0;bottom: 0;left: 50%;z-index: -1;}#sk-container-id-9 div.sk-parallel-item {display: flex;flex-direction: column;z-index: 1;position: relative;background-color: white;}#sk-container-id-9 div.sk-parallel-item:first-child::after {align-self: flex-end;width: 50%;}#sk-container-id-9 div.sk-parallel-item:last-child::after {align-self: flex-start;width: 50%;}#sk-container-id-9 div.sk-parallel-item:only-child::after {width: 0;}#sk-container-id-9 div.sk-dashed-wrapped {border: 1px dashed gray;margin: 0 0.4em 0.5em 0.4em;box-sizing: border-box;padding-bottom: 0.4em;background-color: white;}#sk-container-id-9 div.sk-label label {font-family: monospace;font-weight: bold;display: inline-block;line-height: 1.2em;}#sk-container-id-9 div.sk-label-container {text-align: center;}#sk-container-id-9 div.sk-container {/* jupyter's `normalize.less` sets `[hidden] { display: none; }` but bootstrap.min.css set `[hidden] { display: none !important; }` so we also need the `!important` here to be able to override the default hidden behavior on the sphinx rendered scikit-learn.org. See: https://github.com/scikit-learn/scikit-learn/issues/21755 */display: inline-block !important;position: relative;}#sk-container-id-9 div.sk-text-repr-fallback {display: none;}</style><div id=\"sk-container-id-9\" class=\"sk-top-container\"><div class=\"sk-text-repr-fallback\"><pre>LinearSVC(random_state=0)</pre><b>In a Jupyter environment, please rerun this cell to show the HTML representation or trust the notebook. <br />On GitHub, the HTML representation is unable to render, please try loading this page with nbviewer.org.</b></div><div class=\"sk-container\" hidden><div class=\"sk-item\"><div class=\"sk-estimator sk-toggleable\"><input class=\"sk-toggleable__control sk-hidden--visually\" id=\"sk-estimator-id-9\" type=\"checkbox\" checked><label for=\"sk-estimator-id-9\" class=\"sk-toggleable__label sk-toggleable__label-arrow\">LinearSVC</label><div class=\"sk-toggleable__content\"><pre>LinearSVC(random_state=0)</pre></div></div></div></div></div>"
      ],
      "text/plain": [
       "LinearSVC(random_state=0)"
      ]
     },
     "execution_count": 117,
     "metadata": {},
     "output_type": "execute_result"
    }
   ],
   "source": [
    "SVM = LinearSVC(random_state=0)\n",
    "SVM.fit(X_train, y_train)"
   ]
  },
  {
   "cell_type": "code",
   "execution_count": 118,
   "id": "af1e6aef",
   "metadata": {},
   "outputs": [
    {
     "name": "stdout",
     "output_type": "stream",
     "text": [
      "                precision    recall  f1-score   support\n",
      "\n",
      "Home Team Loss       0.63      0.96      0.76      8414\n",
      " Home Team Win       0.95      0.62      0.75     12143\n",
      "\n",
      "      accuracy                           0.76     20557\n",
      "     macro avg       0.79      0.79      0.76     20557\n",
      "  weighted avg       0.82      0.76      0.75     20557\n",
      "\n"
     ]
    }
   ],
   "source": [
    "y_pred_SVM = SVM.predict(X_train)\n",
    "print(classification_report(y_train, y_pred_SVM, target_names=class_names))"
   ]
  },
  {
   "cell_type": "code",
   "execution_count": 119,
   "id": "23d8d786",
   "metadata": {},
   "outputs": [
    {
     "name": "stdout",
     "output_type": "stream",
     "text": [
      "                precision    recall  f1-score   support\n",
      "\n",
      "Home Team Loss       0.64      0.95      0.77      2128\n",
      " Home Team Win       0.95      0.63      0.75      3012\n",
      "\n",
      "      accuracy                           0.76      5140\n",
      "     macro avg       0.80      0.79      0.76      5140\n",
      "  weighted avg       0.82      0.76      0.76      5140\n",
      "\n"
     ]
    }
   ],
   "source": [
    "y_pred_SVM = SVM.predict(X_test)\n",
    "print(classification_report(y_test, y_pred_SVM, target_names=class_names))"
   ]
  },
  {
   "cell_type": "code",
   "execution_count": 120,
   "id": "ba24f1a7",
   "metadata": {},
   "outputs": [
    {
     "data": {
      "text/plain": [
       "<sklearn.metrics._plot.confusion_matrix.ConfusionMatrixDisplay at 0x1b2d6b212a0>"
      ]
     },
     "execution_count": 120,
     "metadata": {},
     "output_type": "execute_result"
    },
    {
     "data": {
      "image/png": "[encoded data removed]",
      "text/plain": [
       "<Figure size 432x288 with 2 Axes>"
      ]
     },
     "metadata": {
      "needs_background": "light"
     },
     "output_type": "display_data"
    }
   ],
   "source": [
    "metrics.plot_confusion_matrix(SVM, X_test, y_test,\n",
    "                              display_labels=['Home Team Loss', 'Home Team Win'],\n",
    "                              xticks_rotation='vertical')"
   ]
  },
  {
   "cell_type": "code",
   "execution_count": 121,
   "id": "b909bf4c",
   "metadata": {},
   "outputs": [],
   "source": [
    "#KNN K-Nearest Neighbor"
   ]
  },
  {
   "cell_type": "code",
   "execution_count": 122,
   "id": "4c635bc4",
   "metadata": {},
   "outputs": [
    {
     "data": {
      "text/html": [
       "<style>#sk-container-id-10 {color: black;background-color: white;}#sk-container-id-10 pre{padding: 0;}#sk-container-id-10 div.sk-toggleable {background-color: white;}#sk-container-id-10 label.sk-toggleable__label {cursor: pointer;display: block;width: 100%;margin-bottom: 0;padding: 0.3em;box-sizing: border-box;text-align: center;}#sk-container-id-10 label.sk-toggleable__label-arrow:before {content: \"▸\";float: left;margin-right: 0.25em;color: #696969;}#sk-container-id-10 label.sk-toggleable__label-arrow:hover:before {color: black;}#sk-container-id-10 div.sk-estimator:hover label.sk-toggleable__label-arrow:before {color: black;}#sk-container-id-10 div.sk-toggleable__content {max-height: 0;max-width: 0;overflow: hidden;text-align: left;background-color: #f0f8ff;}#sk-container-id-10 div.sk-toggleable__content pre {margin: 0.2em;color: black;border-radius: 0.25em;background-color: #f0f8ff;}#sk-container-id-10 input.sk-toggleable__control:checked~div.sk-toggleable__content {max-height: 200px;max-width: 100%;overflow: auto;}#sk-container-id-10 input.sk-toggleable__control:checked~label.sk-toggleable__label-arrow:before {content: \"▾\";}#sk-container-id-10 div.sk-estimator input.sk-toggleable__control:checked~label.sk-toggleable__label {background-color: #d4ebff;}#sk-container-id-10 div.sk-label input.sk-toggleable__control:checked~label.sk-toggleable__label {background-color: #d4ebff;}#sk-container-id-10 input.sk-hidden--visually {border: 0;clip: rect(1px 1px 1px 1px);clip: rect(1px, 1px, 1px, 1px);height: 1px;margin: -1px;overflow: hidden;padding: 0;position: absolute;width: 1px;}#sk-container-id-10 div.sk-estimator {font-family: monospace;background-color: #f0f8ff;border: 1px dotted black;border-radius: 0.25em;box-sizing: border-box;margin-bottom: 0.5em;}#sk-container-id-10 div.sk-estimator:hover {background-color: #d4ebff;}#sk-container-id-10 div.sk-parallel-item::after {content: \"\";width: 100%;border-bottom: 1px solid gray;flex-grow: 1;}#sk-container-id-10 div.sk-label:hover label.sk-toggleable__label {background-color: #d4ebff;}#sk-container-id-10 div.sk-serial::before {content: \"\";position: absolute;border-left: 1px solid gray;box-sizing: border-box;top: 0;bottom: 0;left: 50%;z-index: 0;}#sk-container-id-10 div.sk-serial {display: flex;flex-direction: column;align-items: center;background-color: white;padding-right: 0.2em;padding-left: 0.2em;position: relative;}#sk-container-id-10 div.sk-item {position: relative;z-index: 1;}#sk-container-id-10 div.sk-parallel {display: flex;align-items: stretch;justify-content: center;background-color: white;position: relative;}#sk-container-id-10 div.sk-item::before, #sk-container-id-10 div.sk-parallel-item::before {content: \"\";position: absolute;border-left: 1px solid gray;box-sizing: border-box;top: 0;bottom: 0;left: 50%;z-index: -1;}#sk-container-id-10 div.sk-parallel-item {display: flex;flex-direction: column;z-index: 1;position: relative;background-color: white;}#sk-container-id-10 div.sk-parallel-item:first-child::after {align-self: flex-end;width: 50%;}#sk-container-id-10 div.sk-parallel-item:last-child::after {align-self: flex-start;width: 50%;}#sk-container-id-10 div.sk-parallel-item:only-child::after {width: 0;}#sk-container-id-10 div.sk-dashed-wrapped {border: 1px dashed gray;margin: 0 0.4em 0.5em 0.4em;box-sizing: border-box;padding-bottom: 0.4em;background-color: white;}#sk-container-id-10 div.sk-label label {font-family: monospace;font-weight: bold;display: inline-block;line-height: 1.2em;}#sk-container-id-10 div.sk-label-container {text-align: center;}#sk-container-id-10 div.sk-container {/* jupyter's `normalize.less` sets `[hidden] { display: none; }` but bootstrap.min.css set `[hidden] { display: none !important; }` so we also need the `!important` here to be able to override the default hidden behavior on the sphinx rendered scikit-learn.org. See: https://github.com/scikit-learn/scikit-learn/issues/21755 */display: inline-block !important;position: relative;}#sk-container-id-10 div.sk-text-repr-fallback {display: none;}</style><div id=\"sk-container-id-10\" class=\"sk-top-container\"><div class=\"sk-text-repr-fallback\"><pre>KNeighborsClassifier(metric=&#x27;euclidean&#x27;, n_neighbors=30)</pre><b>In a Jupyter environment, please rerun this cell to show the HTML representation or trust the notebook. <br />On GitHub, the HTML representation is unable to render, please try loading this page with nbviewer.org.</b></div><div class=\"sk-container\" hidden><div class=\"sk-item\"><div class=\"sk-estimator sk-toggleable\"><input class=\"sk-toggleable__control sk-hidden--visually\" id=\"sk-estimator-id-10\" type=\"checkbox\" checked><label for=\"sk-estimator-id-10\" class=\"sk-toggleable__label sk-toggleable__label-arrow\">KNeighborsClassifier</label><div class=\"sk-toggleable__content\"><pre>KNeighborsClassifier(metric=&#x27;euclidean&#x27;, n_neighbors=30)</pre></div></div></div></div></div>"
      ],
      "text/plain": [
       "KNeighborsClassifier(metric='euclidean', n_neighbors=30)"
      ]
     },
     "execution_count": 122,
     "metadata": {},
     "output_type": "execute_result"
    }
   ],
   "source": [
    "KNN = neighbors.KNeighborsClassifier(n_neighbors=30, algorithm='auto',\n",
    "                                     p=2, metric='euclidean')\n",
    "KNN.fit(X_train, y_train)"
   ]
  },
  {
   "cell_type": "code",
   "execution_count": 123,
   "id": "515a69ea",
   "metadata": {},
   "outputs": [
    {
     "name": "stdout",
     "output_type": "stream",
     "text": [
      "                precision    recall  f1-score   support\n",
      "\n",
      "Home Team Loss       0.69      0.64      0.67      2128\n",
      " Home Team Win       0.76      0.80      0.78      3012\n",
      "\n",
      "      accuracy                           0.74      5140\n",
      "     macro avg       0.73      0.72      0.72      5140\n",
      "  weighted avg       0.73      0.74      0.73      5140\n",
      "\n"
     ]
    }
   ],
   "source": [
    "y_pred_KNN = KNN.predict(X_test)\n",
    "print(classification_report(y_test, y_pred_KNN, target_names=class_names))"
   ]
  },
  {
   "cell_type": "code",
   "execution_count": 124,
   "id": "5703a6ac",
   "metadata": {},
   "outputs": [
    {
     "data": {
      "text/plain": [
       "<sklearn.metrics._plot.confusion_matrix.ConfusionMatrixDisplay at 0x1b2d3b11720>"
      ]
     },
     "execution_count": 124,
     "metadata": {},
     "output_type": "execute_result"
    },
    {
     "data": {
      "image/png": "[encoded data removed]",
      "text/plain": [
       "<Figure size 432x288 with 2 Axes>"
      ]
     },
     "metadata": {
      "needs_background": "light"
     },
     "output_type": "display_data"
    }
   ],
   "source": [
    "metrics.plot_confusion_matrix(KNN, X_test, y_test)"
   ]
  },
  {
   "cell_type": "code",
   "execution_count": 142,
   "id": "e6a745d8",
   "metadata": {},
   "outputs": [
    {
     "data": {
      "text/plain": [
       "0.798804780876494"
      ]
     },
     "execution_count": 142,
     "metadata": {},
     "output_type": "execute_result"
    }
   ],
   "source": [
    "# Precision\n",
    "# TP / TP + FP \n",
    "\n",
    "2406 / (2406+606)"
   ]
  },
  {
   "cell_type": "code",
   "execution_count": 126,
   "id": "85be1d48",
   "metadata": {},
   "outputs": [],
   "source": [
    "data = [['LR', 0.84],['Forest', 0.81],['Desc_Tree', 0.79],['Extra_Tree', 0.78], ['SVM', 0.74], ['KNN', 0.74]]\n",
    "data_accuracy = pd.DataFrame(data, columns=['Models', 'Accuracy'])"
   ]
  },
  {
   "cell_type": "code",
   "execution_count": 127,
   "id": "e8c8ed34",
   "metadata": {},
   "outputs": [
    {
     "data": {
      "text/html": [
       "<div>\n",
       "<style scoped>\n",
       "    .dataframe tbody tr th:only-of-type {\n",
       "        vertical-align: middle;\n",
       "    }\n",
       "\n",
       "    .dataframe tbody tr th {\n",
       "        vertical-align: top;\n",
       "    }\n",
       "\n",
       "    .dataframe thead th {\n",
       "        text-align: right;\n",
       "    }\n",
       "</style>\n",
       "<table border=\"1\" class=\"dataframe\">\n",
       "  <thead>\n",
       "    <tr style=\"text-align: right;\">\n",
       "      <th></th>\n",
       "      <th>Models</th>\n",
       "      <th>Accuracy</th>\n",
       "    </tr>\n",
       "  </thead>\n",
       "  <tbody>\n",
       "    <tr>\n",
       "      <th>0</th>\n",
       "      <td>LR</td>\n",
       "      <td>0.84</td>\n",
       "    </tr>\n",
       "    <tr>\n",
       "      <th>1</th>\n",
       "      <td>Forest</td>\n",
       "      <td>0.81</td>\n",
       "    </tr>\n",
       "    <tr>\n",
       "      <th>2</th>\n",
       "      <td>Desc_Tree</td>\n",
       "      <td>0.79</td>\n",
       "    </tr>\n",
       "    <tr>\n",
       "      <th>3</th>\n",
       "      <td>Extra_Tree</td>\n",
       "      <td>0.78</td>\n",
       "    </tr>\n",
       "    <tr>\n",
       "      <th>4</th>\n",
       "      <td>SVM</td>\n",
       "      <td>0.74</td>\n",
       "    </tr>\n",
       "    <tr>\n",
       "      <th>5</th>\n",
       "      <td>KNN</td>\n",
       "      <td>0.74</td>\n",
       "    </tr>\n",
       "  </tbody>\n",
       "</table>\n",
       "</div>"
      ],
      "text/plain": [
       "       Models  Accuracy\n",
       "0          LR      0.84\n",
       "1      Forest      0.81\n",
       "2   Desc_Tree      0.79\n",
       "3  Extra_Tree      0.78\n",
       "4         SVM      0.74\n",
       "5         KNN      0.74"
      ]
     },
     "execution_count": 127,
     "metadata": {},
     "output_type": "execute_result"
    }
   ],
   "source": [
    "data_accuracy"
   ]
  },
  {
   "cell_type": "code",
   "execution_count": 130,
   "id": "816b8d66",
   "metadata": {},
   "outputs": [
    {
     "data": {
      "text/plain": [
       "[Text(0.5, 1.0, 'Accuracy for Every Model')]"
      ]
     },
     "execution_count": 130,
     "metadata": {},
     "output_type": "execute_result"
    },
    {
     "data": {
      "image/png": "[encoded data removed]",
      "text/plain": [
       "<Figure size 864x576 with 1 Axes>"
      ]
     },
     "metadata": {},
     "output_type": "display_data"
    }
   ],
   "source": [
    "plt.figure(figsize=(12, 8))\n",
    "sns.set(style=\"darkgrid\")\n",
    "\n",
    "sns.barplot(x=\"Models\", y=\"Accuracy\", data=data_accuracy).set(title='Accuracy for Every Model')"
   ]
  },
  {
   "cell_type": "code",
   "execution_count": null,
   "id": "8bea609e",
   "metadata": {},
   "outputs": [],
   "source": []
  }
 ],
 "metadata": {
  "kernelspec": {
   "display_name": "Python 3 (ipykernel)",
   "language": "python",
   "name": "python3"
  },
  "language_info": {
   "codemirror_mode": {
    "name": "ipython",
    "version": 3
   },
   "file_extension": ".py",
   "mimetype": "text/x-python",
   "name": "python",
   "nbconvert_exporter": "python",
   "pygments_lexer": "ipython3",
   "version": "3.10.3"
  }
 },
 "nbformat": 4,
 "nbformat_minor": 5
}
