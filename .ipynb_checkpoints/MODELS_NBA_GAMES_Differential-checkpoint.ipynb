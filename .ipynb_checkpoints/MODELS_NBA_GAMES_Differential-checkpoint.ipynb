{
 "cells": [
  {
   "cell_type": "code",
   "execution_count": null,
   "id": "082a71b4",
   "metadata": {},
   "outputs": [],
   "source": [
    "Modelo de regresion logistica para predecir la victoria o la derrota del equipo anfitrion de baloncesto, utilizando como \n",
    "variable dependiente el Home_Team_Win y las variables explicativas: asistecias, tapones, tiros de campo, tiros de tres puntos y\n",
    "tiros libres. Cada una de las variables explicativas de los respectivos equipos, tanto del visitante como del anfitrion. Ademas\n",
    "se realizaran mas modelos de clasificacion para asi escoger el de mayor precision: SVM, KNN, Random Forest."
   ]
  },
  {
   "cell_type": "code",
   "execution_count": 1,
   "id": "0dee71e4",
   "metadata": {},
   "outputs": [],
   "source": [
    "%matplotlib inline\n",
    "# import numpy and pandas\n",
    "import pandas as pd\n",
    "import numpy as np\n",
    "import re\n",
    "\n",
    "import matplotlib.pyplot as plt\n",
    "from scipy.stats import f_oneway, f\n",
    "\n",
    "import statsmodels.api as sm\n",
    "from statsmodels.formula.api import ols \n",
    "\n",
    "import warnings\n",
    "warnings.simplefilter('ignore')\n",
    "\n",
    "import seaborn as sns\n",
    "import seaborn as sb\n",
    "\n",
    "from scipy.stats import norm\n",
    "\n",
    "from sklearn.metrics import mean_squared_error, r2_score\n",
    "from sklearn.preprocessing import StandardScaler\n",
    "from sklearn.model_selection import train_test_split\n",
    "from sklearn.linear_model import LogisticRegression\n",
    "from sklearn.model_selection import train_test_split\n",
    "from sklearn import metrics\n",
    "from sklearn.metrics import confusion_matrix, accuracy_score\n",
    "from sklearn.metrics import classification_report\n",
    "from sklearn.dummy import DummyClassifier\n",
    "from sklearn.metrics import accuracy_score\n",
    "\n",
    "from sklearn.metrics import roc_curve, roc_auc_score\n",
    "import matplotlib.pyplot as plt\n",
    "\n",
    "from sklearn.model_selection import cross_val_score, train_test_split\n",
    "from sklearn.tree import DecisionTreeClassifier\n",
    "from sklearn import tree\n",
    "from sklearn.ensemble import RandomForestClassifier, ExtraTreesClassifier\n",
    "from sklearn.svm import LinearSVC\n",
    "from sklearn import neighbors"
   ]
  },
  {
   "cell_type": "code",
   "execution_count": 2,
   "id": "c2df3b70",
   "metadata": {},
   "outputs": [],
   "source": [
    "diff = pd.read_csv('data_nba_clean.csv')"
   ]
  },
  {
   "cell_type": "code",
   "execution_count": 4,
   "id": "69aab9af",
   "metadata": {},
   "outputs": [
    {
     "data": {
      "text/html": [
       "<div>\n",
       "<style scoped>\n",
       "    .dataframe tbody tr th:only-of-type {\n",
       "        vertical-align: middle;\n",
       "    }\n",
       "\n",
       "    .dataframe tbody tr th {\n",
       "        vertical-align: top;\n",
       "    }\n",
       "\n",
       "    .dataframe thead th {\n",
       "        text-align: right;\n",
       "    }\n",
       "</style>\n",
       "<table border=\"1\" class=\"dataframe\">\n",
       "  <thead>\n",
       "    <tr style=\"text-align: right;\">\n",
       "      <th></th>\n",
       "      <th>Unnamed: 0</th>\n",
       "      <th>GAME_DATE_EST</th>\n",
       "      <th>GAME_ID</th>\n",
       "      <th>GAME_STATUS_TEXT</th>\n",
       "      <th>HOME_TEAM_ID</th>\n",
       "      <th>VISITOR_TEAM_ID</th>\n",
       "      <th>SEASON</th>\n",
       "      <th>TEAM_ID_home</th>\n",
       "      <th>PTS_home</th>\n",
       "      <th>FG_PCT_home</th>\n",
       "      <th>...</th>\n",
       "      <th>AST_away</th>\n",
       "      <th>REB_away</th>\n",
       "      <th>HOME_TEAM_WINS</th>\n",
       "      <th>year</th>\n",
       "      <th>pts_totals</th>\n",
       "      <th>ast_totals</th>\n",
       "      <th>fg_totals</th>\n",
       "      <th>rb_totals</th>\n",
       "      <th>fg3_totals</th>\n",
       "      <th>ft_totals</th>\n",
       "    </tr>\n",
       "  </thead>\n",
       "  <tbody>\n",
       "    <tr>\n",
       "      <th>0</th>\n",
       "      <td>0</td>\n",
       "      <td>2022-03-12</td>\n",
       "      <td>22101005</td>\n",
       "      <td>Final</td>\n",
       "      <td>1610612748</td>\n",
       "      <td>1610612750</td>\n",
       "      <td>2021</td>\n",
       "      <td>1610612748</td>\n",
       "      <td>104.0</td>\n",
       "      <td>0.398</td>\n",
       "      <td>...</td>\n",
       "      <td>21.0</td>\n",
       "      <td>46.0</td>\n",
       "      <td>0</td>\n",
       "      <td>2022</td>\n",
       "      <td>217.0</td>\n",
       "      <td>44.0</td>\n",
       "      <td>0.820</td>\n",
       "      <td>99.0</td>\n",
       "      <td>0.690</td>\n",
       "      <td>1.635</td>\n",
       "    </tr>\n",
       "    <tr>\n",
       "      <th>1</th>\n",
       "      <td>1</td>\n",
       "      <td>2022-03-12</td>\n",
       "      <td>22101006</td>\n",
       "      <td>Final</td>\n",
       "      <td>1610612741</td>\n",
       "      <td>1610612739</td>\n",
       "      <td>2021</td>\n",
       "      <td>1610612741</td>\n",
       "      <td>101.0</td>\n",
       "      <td>0.443</td>\n",
       "      <td>...</td>\n",
       "      <td>19.0</td>\n",
       "      <td>40.0</td>\n",
       "      <td>1</td>\n",
       "      <td>2022</td>\n",
       "      <td>192.0</td>\n",
       "      <td>39.0</td>\n",
       "      <td>0.862</td>\n",
       "      <td>86.0</td>\n",
       "      <td>0.637</td>\n",
       "      <td>1.757</td>\n",
       "    </tr>\n",
       "    <tr>\n",
       "      <th>2</th>\n",
       "      <td>2</td>\n",
       "      <td>2022-03-12</td>\n",
       "      <td>22101007</td>\n",
       "      <td>Final</td>\n",
       "      <td>1610612759</td>\n",
       "      <td>1610612754</td>\n",
       "      <td>2021</td>\n",
       "      <td>1610612759</td>\n",
       "      <td>108.0</td>\n",
       "      <td>0.412</td>\n",
       "      <td>...</td>\n",
       "      <td>23.0</td>\n",
       "      <td>47.0</td>\n",
       "      <td>0</td>\n",
       "      <td>2022</td>\n",
       "      <td>227.0</td>\n",
       "      <td>51.0</td>\n",
       "      <td>0.901</td>\n",
       "      <td>99.0</td>\n",
       "      <td>0.713</td>\n",
       "      <td>1.813</td>\n",
       "    </tr>\n",
       "    <tr>\n",
       "      <th>3</th>\n",
       "      <td>3</td>\n",
       "      <td>2022-03-12</td>\n",
       "      <td>22101008</td>\n",
       "      <td>Final</td>\n",
       "      <td>1610612744</td>\n",
       "      <td>1610612749</td>\n",
       "      <td>2021</td>\n",
       "      <td>1610612744</td>\n",
       "      <td>122.0</td>\n",
       "      <td>0.484</td>\n",
       "      <td>...</td>\n",
       "      <td>27.0</td>\n",
       "      <td>39.0</td>\n",
       "      <td>1</td>\n",
       "      <td>2022</td>\n",
       "      <td>231.0</td>\n",
       "      <td>60.0</td>\n",
       "      <td>0.897</td>\n",
       "      <td>94.0</td>\n",
       "      <td>0.786</td>\n",
       "      <td>1.629</td>\n",
       "    </tr>\n",
       "    <tr>\n",
       "      <th>4</th>\n",
       "      <td>4</td>\n",
       "      <td>2022-03-12</td>\n",
       "      <td>22101009</td>\n",
       "      <td>Final</td>\n",
       "      <td>1610612743</td>\n",
       "      <td>1610612761</td>\n",
       "      <td>2021</td>\n",
       "      <td>1610612743</td>\n",
       "      <td>115.0</td>\n",
       "      <td>0.551</td>\n",
       "      <td>...</td>\n",
       "      <td>28.0</td>\n",
       "      <td>50.0</td>\n",
       "      <td>0</td>\n",
       "      <td>2022</td>\n",
       "      <td>242.0</td>\n",
       "      <td>60.0</td>\n",
       "      <td>1.022</td>\n",
       "      <td>89.0</td>\n",
       "      <td>0.794</td>\n",
       "      <td>1.510</td>\n",
       "    </tr>\n",
       "    <tr>\n",
       "      <th>...</th>\n",
       "      <td>...</td>\n",
       "      <td>...</td>\n",
       "      <td>...</td>\n",
       "      <td>...</td>\n",
       "      <td>...</td>\n",
       "      <td>...</td>\n",
       "      <td>...</td>\n",
       "      <td>...</td>\n",
       "      <td>...</td>\n",
       "      <td>...</td>\n",
       "      <td>...</td>\n",
       "      <td>...</td>\n",
       "      <td>...</td>\n",
       "      <td>...</td>\n",
       "      <td>...</td>\n",
       "      <td>...</td>\n",
       "      <td>...</td>\n",
       "      <td>...</td>\n",
       "      <td>...</td>\n",
       "      <td>...</td>\n",
       "      <td>...</td>\n",
       "    </tr>\n",
       "    <tr>\n",
       "      <th>25692</th>\n",
       "      <td>25791</td>\n",
       "      <td>2014-10-06</td>\n",
       "      <td>11400007</td>\n",
       "      <td>Final</td>\n",
       "      <td>1610612737</td>\n",
       "      <td>1610612740</td>\n",
       "      <td>2014</td>\n",
       "      <td>1610612737</td>\n",
       "      <td>93.0</td>\n",
       "      <td>0.419</td>\n",
       "      <td>...</td>\n",
       "      <td>17.0</td>\n",
       "      <td>43.0</td>\n",
       "      <td>1</td>\n",
       "      <td>2014</td>\n",
       "      <td>180.0</td>\n",
       "      <td>41.0</td>\n",
       "      <td>0.785</td>\n",
       "      <td>93.0</td>\n",
       "      <td>0.796</td>\n",
       "      <td>1.464</td>\n",
       "    </tr>\n",
       "    <tr>\n",
       "      <th>25693</th>\n",
       "      <td>25792</td>\n",
       "      <td>2014-10-06</td>\n",
       "      <td>11400004</td>\n",
       "      <td>Final</td>\n",
       "      <td>1610612741</td>\n",
       "      <td>1610612764</td>\n",
       "      <td>2014</td>\n",
       "      <td>1610612741</td>\n",
       "      <td>81.0</td>\n",
       "      <td>0.338</td>\n",
       "      <td>...</td>\n",
       "      <td>17.0</td>\n",
       "      <td>47.0</td>\n",
       "      <td>0</td>\n",
       "      <td>2014</td>\n",
       "      <td>166.0</td>\n",
       "      <td>35.0</td>\n",
       "      <td>0.749</td>\n",
       "      <td>87.0</td>\n",
       "      <td>0.648</td>\n",
       "      <td>1.355</td>\n",
       "    </tr>\n",
       "    <tr>\n",
       "      <th>25694</th>\n",
       "      <td>25793</td>\n",
       "      <td>2014-10-06</td>\n",
       "      <td>11400005</td>\n",
       "      <td>Final</td>\n",
       "      <td>1610612747</td>\n",
       "      <td>1610612743</td>\n",
       "      <td>2014</td>\n",
       "      <td>1610612747</td>\n",
       "      <td>98.0</td>\n",
       "      <td>0.448</td>\n",
       "      <td>...</td>\n",
       "      <td>19.0</td>\n",
       "      <td>43.0</td>\n",
       "      <td>1</td>\n",
       "      <td>2014</td>\n",
       "      <td>193.0</td>\n",
       "      <td>48.0</td>\n",
       "      <td>0.835</td>\n",
       "      <td>88.0</td>\n",
       "      <td>1.000</td>\n",
       "      <td>1.341</td>\n",
       "    </tr>\n",
       "    <tr>\n",
       "      <th>25695</th>\n",
       "      <td>25794</td>\n",
       "      <td>2014-10-05</td>\n",
       "      <td>11400002</td>\n",
       "      <td>Final</td>\n",
       "      <td>1610612761</td>\n",
       "      <td>1610612758</td>\n",
       "      <td>2014</td>\n",
       "      <td>1610612761</td>\n",
       "      <td>99.0</td>\n",
       "      <td>0.440</td>\n",
       "      <td>...</td>\n",
       "      <td>18.0</td>\n",
       "      <td>45.0</td>\n",
       "      <td>1</td>\n",
       "      <td>2014</td>\n",
       "      <td>193.0</td>\n",
       "      <td>39.0</td>\n",
       "      <td>0.909</td>\n",
       "      <td>75.0</td>\n",
       "      <td>0.718</td>\n",
       "      <td>1.496</td>\n",
       "    </tr>\n",
       "    <tr>\n",
       "      <th>25696</th>\n",
       "      <td>25795</td>\n",
       "      <td>2014-10-04</td>\n",
       "      <td>11400001</td>\n",
       "      <td>Final</td>\n",
       "      <td>1610612748</td>\n",
       "      <td>1610612740</td>\n",
       "      <td>2014</td>\n",
       "      <td>1610612748</td>\n",
       "      <td>86.0</td>\n",
       "      <td>0.431</td>\n",
       "      <td>...</td>\n",
       "      <td>19.0</td>\n",
       "      <td>42.0</td>\n",
       "      <td>0</td>\n",
       "      <td>2014</td>\n",
       "      <td>184.0</td>\n",
       "      <td>37.0</td>\n",
       "      <td>0.893</td>\n",
       "      <td>84.0</td>\n",
       "      <td>0.771</td>\n",
       "      <td>1.385</td>\n",
       "    </tr>\n",
       "  </tbody>\n",
       "</table>\n",
       "<p>25697 rows × 29 columns</p>\n",
       "</div>"
      ],
      "text/plain": [
       "       Unnamed: 0 GAME_DATE_EST   GAME_ID GAME_STATUS_TEXT  HOME_TEAM_ID  \\\n",
       "0               0    2022-03-12  22101005            Final    1610612748   \n",
       "1               1    2022-03-12  22101006            Final    1610612741   \n",
       "2               2    2022-03-12  22101007            Final    1610612759   \n",
       "3               3    2022-03-12  22101008            Final    1610612744   \n",
       "4               4    2022-03-12  22101009            Final    1610612743   \n",
       "...           ...           ...       ...              ...           ...   \n",
       "25692       25791    2014-10-06  11400007            Final    1610612737   \n",
       "25693       25792    2014-10-06  11400004            Final    1610612741   \n",
       "25694       25793    2014-10-06  11400005            Final    1610612747   \n",
       "25695       25794    2014-10-05  11400002            Final    1610612761   \n",
       "25696       25795    2014-10-04  11400001            Final    1610612748   \n",
       "\n",
       "       VISITOR_TEAM_ID  SEASON  TEAM_ID_home  PTS_home  FG_PCT_home  ...  \\\n",
       "0           1610612750    2021    1610612748     104.0        0.398  ...   \n",
       "1           1610612739    2021    1610612741     101.0        0.443  ...   \n",
       "2           1610612754    2021    1610612759     108.0        0.412  ...   \n",
       "3           1610612749    2021    1610612744     122.0        0.484  ...   \n",
       "4           1610612761    2021    1610612743     115.0        0.551  ...   \n",
       "...                ...     ...           ...       ...          ...  ...   \n",
       "25692       1610612740    2014    1610612737      93.0        0.419  ...   \n",
       "25693       1610612764    2014    1610612741      81.0        0.338  ...   \n",
       "25694       1610612743    2014    1610612747      98.0        0.448  ...   \n",
       "25695       1610612758    2014    1610612761      99.0        0.440  ...   \n",
       "25696       1610612740    2014    1610612748      86.0        0.431  ...   \n",
       "\n",
       "       AST_away  REB_away  HOME_TEAM_WINS  year  pts_totals  ast_totals  \\\n",
       "0          21.0      46.0               0  2022       217.0        44.0   \n",
       "1          19.0      40.0               1  2022       192.0        39.0   \n",
       "2          23.0      47.0               0  2022       227.0        51.0   \n",
       "3          27.0      39.0               1  2022       231.0        60.0   \n",
       "4          28.0      50.0               0  2022       242.0        60.0   \n",
       "...         ...       ...             ...   ...         ...         ...   \n",
       "25692      17.0      43.0               1  2014       180.0        41.0   \n",
       "25693      17.0      47.0               0  2014       166.0        35.0   \n",
       "25694      19.0      43.0               1  2014       193.0        48.0   \n",
       "25695      18.0      45.0               1  2014       193.0        39.0   \n",
       "25696      19.0      42.0               0  2014       184.0        37.0   \n",
       "\n",
       "       fg_totals  rb_totals  fg3_totals  ft_totals  \n",
       "0          0.820       99.0       0.690      1.635  \n",
       "1          0.862       86.0       0.637      1.757  \n",
       "2          0.901       99.0       0.713      1.813  \n",
       "3          0.897       94.0       0.786      1.629  \n",
       "4          1.022       89.0       0.794      1.510  \n",
       "...          ...        ...         ...        ...  \n",
       "25692      0.785       93.0       0.796      1.464  \n",
       "25693      0.749       87.0       0.648      1.355  \n",
       "25694      0.835       88.0       1.000      1.341  \n",
       "25695      0.909       75.0       0.718      1.496  \n",
       "25696      0.893       84.0       0.771      1.385  \n",
       "\n",
       "[25697 rows x 29 columns]"
      ]
     },
     "execution_count": 4,
     "metadata": {},
     "output_type": "execute_result"
    }
   ],
   "source": [
    "diff"
   ]
  },
  {
   "cell_type": "code",
   "execution_count": 5,
   "id": "d5b85fb1",
   "metadata": {},
   "outputs": [],
   "source": [
    "#Eliminamos la columna unname\n",
    "diff.drop(['Unnamed: 0'], axis = 1, inplace= True)"
   ]
  },
  {
   "cell_type": "code",
   "execution_count": 6,
   "id": "a13a18ad",
   "metadata": {},
   "outputs": [
    {
     "name": "stdout",
     "output_type": "stream",
     "text": [
      "<class 'pandas.core.frame.DataFrame'>\n",
      "RangeIndex: 25697 entries, 0 to 25696\n",
      "Data columns (total 28 columns):\n",
      " #   Column            Non-Null Count  Dtype  \n",
      "---  ------            --------------  -----  \n",
      " 0   GAME_DATE_EST     25697 non-null  object \n",
      " 1   GAME_ID           25697 non-null  int64  \n",
      " 2   GAME_STATUS_TEXT  25697 non-null  object \n",
      " 3   HOME_TEAM_ID      25697 non-null  int64  \n",
      " 4   VISITOR_TEAM_ID   25697 non-null  int64  \n",
      " 5   SEASON            25697 non-null  int64  \n",
      " 6   TEAM_ID_home      25697 non-null  int64  \n",
      " 7   PTS_home          25697 non-null  float64\n",
      " 8   FG_PCT_home       25697 non-null  float64\n",
      " 9   FT_PCT_home       25697 non-null  float64\n",
      " 10  FG3_PCT_home      25697 non-null  float64\n",
      " 11  AST_home          25697 non-null  float64\n",
      " 12  REB_home          25697 non-null  float64\n",
      " 13  TEAM_ID_away      25697 non-null  int64  \n",
      " 14  PTS_away          25697 non-null  float64\n",
      " 15  FG_PCT_away       25697 non-null  float64\n",
      " 16  FT_PCT_away       25697 non-null  float64\n",
      " 17  FG3_PCT_away      25697 non-null  float64\n",
      " 18  AST_away          25697 non-null  float64\n",
      " 19  REB_away          25697 non-null  float64\n",
      " 20  HOME_TEAM_WINS    25697 non-null  int64  \n",
      " 21  year              25697 non-null  int64  \n",
      " 22  pts_totals        25697 non-null  float64\n",
      " 23  ast_totals        25697 non-null  float64\n",
      " 24  fg_totals         25697 non-null  float64\n",
      " 25  rb_totals         25697 non-null  float64\n",
      " 26  fg3_totals        25697 non-null  float64\n",
      " 27  ft_totals         25697 non-null  float64\n",
      "dtypes: float64(18), int64(8), object(2)\n",
      "memory usage: 5.5+ MB\n"
     ]
    }
   ],
   "source": [
    "diff.info()"
   ]
  },
  {
   "cell_type": "code",
   "execution_count": null,
   "id": "ab027091",
   "metadata": {},
   "outputs": [],
   "source": [
    "#Obtenemos las diferencias de las variables"
   ]
  },
  {
   "cell_type": "code",
   "execution_count": 8,
   "id": "b3d2b7b1",
   "metadata": {},
   "outputs": [],
   "source": [
    "diff['diff_pts'] = diff['PTS_home'] - diff['PTS_away']"
   ]
  },
  {
   "cell_type": "code",
   "execution_count": 9,
   "id": "4a577f81",
   "metadata": {},
   "outputs": [],
   "source": [
    "diff['diff_ast'] = diff['AST_home'] - diff['AST_away']"
   ]
  },
  {
   "cell_type": "code",
   "execution_count": 10,
   "id": "ccd37242",
   "metadata": {},
   "outputs": [],
   "source": [
    "diff['diff_fg'] = diff['FG_PCT_home'] - diff['FG_PCT_away']"
   ]
  },
  {
   "cell_type": "code",
   "execution_count": 11,
   "id": "69a0c796",
   "metadata": {},
   "outputs": [],
   "source": [
    "diff['diff_rb'] = diff['REB_home'] - diff['REB_away']"
   ]
  },
  {
   "cell_type": "code",
   "execution_count": 12,
   "id": "53d6dd8f",
   "metadata": {},
   "outputs": [],
   "source": [
    "diff['diff_fg3'] = diff['FG3_PCT_home'] - diff['FG3_PCT_away']"
   ]
  },
  {
   "cell_type": "code",
   "execution_count": 13,
   "id": "8c053dbf",
   "metadata": {},
   "outputs": [],
   "source": [
    "diff['diff_ft'] = diff['FT_PCT_home'] - diff['FT_PCT_away']"
   ]
  },
  {
   "cell_type": "code",
   "execution_count": 14,
   "id": "278b0011",
   "metadata": {},
   "outputs": [
    {
     "name": "stdout",
     "output_type": "stream",
     "text": [
      "<class 'pandas.core.frame.DataFrame'>\n",
      "RangeIndex: 25697 entries, 0 to 25696\n",
      "Data columns (total 34 columns):\n",
      " #   Column            Non-Null Count  Dtype  \n",
      "---  ------            --------------  -----  \n",
      " 0   GAME_DATE_EST     25697 non-null  object \n",
      " 1   GAME_ID           25697 non-null  int64  \n",
      " 2   GAME_STATUS_TEXT  25697 non-null  object \n",
      " 3   HOME_TEAM_ID      25697 non-null  int64  \n",
      " 4   VISITOR_TEAM_ID   25697 non-null  int64  \n",
      " 5   SEASON            25697 non-null  int64  \n",
      " 6   TEAM_ID_home      25697 non-null  int64  \n",
      " 7   PTS_home          25697 non-null  float64\n",
      " 8   FG_PCT_home       25697 non-null  float64\n",
      " 9   FT_PCT_home       25697 non-null  float64\n",
      " 10  FG3_PCT_home      25697 non-null  float64\n",
      " 11  AST_home          25697 non-null  float64\n",
      " 12  REB_home          25697 non-null  float64\n",
      " 13  TEAM_ID_away      25697 non-null  int64  \n",
      " 14  PTS_away          25697 non-null  float64\n",
      " 15  FG_PCT_away       25697 non-null  float64\n",
      " 16  FT_PCT_away       25697 non-null  float64\n",
      " 17  FG3_PCT_away      25697 non-null  float64\n",
      " 18  AST_away          25697 non-null  float64\n",
      " 19  REB_away          25697 non-null  float64\n",
      " 20  HOME_TEAM_WINS    25697 non-null  int64  \n",
      " 21  year              25697 non-null  int64  \n",
      " 22  pts_totals        25697 non-null  float64\n",
      " 23  ast_totals        25697 non-null  float64\n",
      " 24  fg_totals         25697 non-null  float64\n",
      " 25  rb_totals         25697 non-null  float64\n",
      " 26  fg3_totals        25697 non-null  float64\n",
      " 27  ft_totals         25697 non-null  float64\n",
      " 28  diff_pts          25697 non-null  float64\n",
      " 29  diff_ast          25697 non-null  float64\n",
      " 30  diff_fg           25697 non-null  float64\n",
      " 31  diff_rb           25697 non-null  float64\n",
      " 32  diff_fg3          25697 non-null  float64\n",
      " 33  diff_ft           25697 non-null  float64\n",
      "dtypes: float64(24), int64(8), object(2)\n",
      "memory usage: 6.7+ MB\n"
     ]
    }
   ],
   "source": [
    "diff.info()"
   ]
  },
  {
   "cell_type": "code",
   "execution_count": 24,
   "id": "76f6e6cd",
   "metadata": {},
   "outputs": [],
   "source": [
    "#df_models = df[['HOME_TEAM_WINS', 'pts_totals', 'ast_totals', 'fg_totals', 'fg3_totals', 'ft_totals', 'rb_totals']]\n",
    "diff_models = diff[['diff_ast', 'diff_fg', 'diff_rb', 'diff_fg3', 'diff_ft', 'HOME_TEAM_WINS']]"
   ]
  },
  {
   "cell_type": "code",
   "execution_count": 25,
   "id": "9f710f24",
   "metadata": {},
   "outputs": [
    {
     "name": "stdout",
     "output_type": "stream",
     "text": [
      "<class 'pandas.core.frame.DataFrame'>\n",
      "RangeIndex: 25697 entries, 0 to 25696\n",
      "Data columns (total 6 columns):\n",
      " #   Column          Non-Null Count  Dtype  \n",
      "---  ------          --------------  -----  \n",
      " 0   diff_ast        25697 non-null  float64\n",
      " 1   diff_fg         25697 non-null  float64\n",
      " 2   diff_rb         25697 non-null  float64\n",
      " 3   diff_fg3        25697 non-null  float64\n",
      " 4   diff_ft         25697 non-null  float64\n",
      " 5   HOME_TEAM_WINS  25697 non-null  int64  \n",
      "dtypes: float64(5), int64(1)\n",
      "memory usage: 1.2 MB\n"
     ]
    }
   ],
   "source": [
    "diff_models.info()"
   ]
  },
  {
   "cell_type": "code",
   "execution_count": 26,
   "id": "ca7fc71f",
   "metadata": {},
   "outputs": [],
   "source": [
    "y = diff_models['HOME_TEAM_WINS']\n",
    "X = diff_models.drop(columns=['HOME_TEAM_WINS'])"
   ]
  },
  {
   "cell_type": "code",
   "execution_count": 27,
   "id": "d40dd7f7",
   "metadata": {},
   "outputs": [],
   "source": [
    "#estandarizamos las variables para tenerlas en mejor medidas\n",
    "#scaler = StandardScaler()\n",
    "#dt = scaler.fit_transform(X)\n",
    "#dt"
   ]
  },
  {
   "cell_type": "code",
   "execution_count": 28,
   "id": "c08089e0",
   "metadata": {},
   "outputs": [],
   "source": [
    "#df = pd.DataFrame(dt, index=X.index, columns=X.columns)\n",
    "#df.head()\n",
    "#X = df\n",
    "#X"
   ]
  },
  {
   "cell_type": "code",
   "execution_count": 29,
   "id": "5fb73527",
   "metadata": {},
   "outputs": [],
   "source": [
    "X_train, X_test, y_train, y_test = train_test_split(X, y, test_size=0.2)"
   ]
  },
  {
   "cell_type": "code",
   "execution_count": 30,
   "id": "4f433071",
   "metadata": {},
   "outputs": [
    {
     "data": {
      "text/html": [
       "<style>#sk-container-id-2 {color: black;background-color: white;}#sk-container-id-2 pre{padding: 0;}#sk-container-id-2 div.sk-toggleable {background-color: white;}#sk-container-id-2 label.sk-toggleable__label {cursor: pointer;display: block;width: 100%;margin-bottom: 0;padding: 0.3em;box-sizing: border-box;text-align: center;}#sk-container-id-2 label.sk-toggleable__label-arrow:before {content: \"▸\";float: left;margin-right: 0.25em;color: #696969;}#sk-container-id-2 label.sk-toggleable__label-arrow:hover:before {color: black;}#sk-container-id-2 div.sk-estimator:hover label.sk-toggleable__label-arrow:before {color: black;}#sk-container-id-2 div.sk-toggleable__content {max-height: 0;max-width: 0;overflow: hidden;text-align: left;background-color: #f0f8ff;}#sk-container-id-2 div.sk-toggleable__content pre {margin: 0.2em;color: black;border-radius: 0.25em;background-color: #f0f8ff;}#sk-container-id-2 input.sk-toggleable__control:checked~div.sk-toggleable__content {max-height: 200px;max-width: 100%;overflow: auto;}#sk-container-id-2 input.sk-toggleable__control:checked~label.sk-toggleable__label-arrow:before {content: \"▾\";}#sk-container-id-2 div.sk-estimator input.sk-toggleable__control:checked~label.sk-toggleable__label {background-color: #d4ebff;}#sk-container-id-2 div.sk-label input.sk-toggleable__control:checked~label.sk-toggleable__label {background-color: #d4ebff;}#sk-container-id-2 input.sk-hidden--visually {border: 0;clip: rect(1px 1px 1px 1px);clip: rect(1px, 1px, 1px, 1px);height: 1px;margin: -1px;overflow: hidden;padding: 0;position: absolute;width: 1px;}#sk-container-id-2 div.sk-estimator {font-family: monospace;background-color: #f0f8ff;border: 1px dotted black;border-radius: 0.25em;box-sizing: border-box;margin-bottom: 0.5em;}#sk-container-id-2 div.sk-estimator:hover {background-color: #d4ebff;}#sk-container-id-2 div.sk-parallel-item::after {content: \"\";width: 100%;border-bottom: 1px solid gray;flex-grow: 1;}#sk-container-id-2 div.sk-label:hover label.sk-toggleable__label {background-color: #d4ebff;}#sk-container-id-2 div.sk-serial::before {content: \"\";position: absolute;border-left: 1px solid gray;box-sizing: border-box;top: 0;bottom: 0;left: 50%;z-index: 0;}#sk-container-id-2 div.sk-serial {display: flex;flex-direction: column;align-items: center;background-color: white;padding-right: 0.2em;padding-left: 0.2em;position: relative;}#sk-container-id-2 div.sk-item {position: relative;z-index: 1;}#sk-container-id-2 div.sk-parallel {display: flex;align-items: stretch;justify-content: center;background-color: white;position: relative;}#sk-container-id-2 div.sk-item::before, #sk-container-id-2 div.sk-parallel-item::before {content: \"\";position: absolute;border-left: 1px solid gray;box-sizing: border-box;top: 0;bottom: 0;left: 50%;z-index: -1;}#sk-container-id-2 div.sk-parallel-item {display: flex;flex-direction: column;z-index: 1;position: relative;background-color: white;}#sk-container-id-2 div.sk-parallel-item:first-child::after {align-self: flex-end;width: 50%;}#sk-container-id-2 div.sk-parallel-item:last-child::after {align-self: flex-start;width: 50%;}#sk-container-id-2 div.sk-parallel-item:only-child::after {width: 0;}#sk-container-id-2 div.sk-dashed-wrapped {border: 1px dashed gray;margin: 0 0.4em 0.5em 0.4em;box-sizing: border-box;padding-bottom: 0.4em;background-color: white;}#sk-container-id-2 div.sk-label label {font-family: monospace;font-weight: bold;display: inline-block;line-height: 1.2em;}#sk-container-id-2 div.sk-label-container {text-align: center;}#sk-container-id-2 div.sk-container {/* jupyter's `normalize.less` sets `[hidden] { display: none; }` but bootstrap.min.css set `[hidden] { display: none !important; }` so we also need the `!important` here to be able to override the default hidden behavior on the sphinx rendered scikit-learn.org. See: https://github.com/scikit-learn/scikit-learn/issues/21755 */display: inline-block !important;position: relative;}#sk-container-id-2 div.sk-text-repr-fallback {display: none;}</style><div id=\"sk-container-id-2\" class=\"sk-top-container\"><div class=\"sk-text-repr-fallback\"><pre>LogisticRegression()</pre><b>In a Jupyter environment, please rerun this cell to show the HTML representation or trust the notebook. <br />On GitHub, the HTML representation is unable to render, please try loading this page with nbviewer.org.</b></div><div class=\"sk-container\" hidden><div class=\"sk-item\"><div class=\"sk-estimator sk-toggleable\"><input class=\"sk-toggleable__control sk-hidden--visually\" id=\"sk-estimator-id-2\" type=\"checkbox\" checked><label for=\"sk-estimator-id-2\" class=\"sk-toggleable__label sk-toggleable__label-arrow\">LogisticRegression</label><div class=\"sk-toggleable__content\"><pre>LogisticRegression()</pre></div></div></div></div></div>"
      ],
      "text/plain": [
       "LogisticRegression()"
      ]
     },
     "execution_count": 30,
     "metadata": {},
     "output_type": "execute_result"
    }
   ],
   "source": [
    "lr = LogisticRegression()\n",
    "lr.fit(X_train, y_train)"
   ]
  },
  {
   "cell_type": "code",
   "execution_count": 31,
   "id": "261d2b37",
   "metadata": {},
   "outputs": [],
   "source": [
    "y_pred_lr = lr.predict(X_test)"
   ]
  },
  {
   "cell_type": "code",
   "execution_count": 32,
   "id": "a64f13a3",
   "metadata": {},
   "outputs": [
    {
     "data": {
      "text/plain": [
       "0.8392761589726128"
      ]
     },
     "execution_count": 32,
     "metadata": {},
     "output_type": "execute_result"
    }
   ],
   "source": [
    "lr.score(X_train, y_train)"
   ]
  },
  {
   "cell_type": "code",
   "execution_count": 33,
   "id": "5039b160",
   "metadata": {},
   "outputs": [
    {
     "data": {
      "text/plain": [
       "0.8406614785992218"
      ]
     },
     "execution_count": 33,
     "metadata": {},
     "output_type": "execute_result"
    }
   ],
   "source": [
    "lr.score(X_test, y_test)"
   ]
  },
  {
   "cell_type": "code",
   "execution_count": 34,
   "id": "7168cbc8",
   "metadata": {},
   "outputs": [
    {
     "data": {
      "text/plain": [
       "0.1593385214007782"
      ]
     },
     "execution_count": 34,
     "metadata": {},
     "output_type": "execute_result"
    }
   ],
   "source": [
    "mean_squared_error(y_pred_lr, y_test)"
   ]
  },
  {
   "cell_type": "code",
   "execution_count": 35,
   "id": "508cf99d",
   "metadata": {},
   "outputs": [
    {
     "data": {
      "text/plain": [
       "nan"
      ]
     },
     "execution_count": 35,
     "metadata": {},
     "output_type": "execute_result"
    }
   ],
   "source": [
    "def mape(actual, pred): \n",
    "    actual, pred = np.array(actual), np.array(pred)\n",
    "    return np.mean(np.abs((actual - pred) / actual)) * 100\n",
    "\n",
    "mape(y_test, y_pred_lr)"
   ]
  },
  {
   "cell_type": "code",
   "execution_count": 36,
   "id": "5a644612",
   "metadata": {},
   "outputs": [
    {
     "data": {
      "text/plain": [
       "array([[1692,  453],\n",
       "       [ 366, 2629]], dtype=int64)"
      ]
     },
     "execution_count": 36,
     "metadata": {},
     "output_type": "execute_result"
    }
   ],
   "source": [
    "confusion_matrix(y_test, y_pred_lr)"
   ]
  },
  {
   "cell_type": "code",
   "execution_count": 37,
   "id": "d8e068f6",
   "metadata": {},
   "outputs": [
    {
     "data": {
      "image/png": "[encoded data removed]",
      "text/plain": [
       "<Figure size 432x288 with 2 Axes>"
      ]
     },
     "metadata": {
      "needs_background": "light"
     },
     "output_type": "display_data"
    }
   ],
   "source": [
    "Labels = ['Home Team Loss', 'Home Team Win']\n",
    "\n",
    "metrics.plot_confusion_matrix(lr, X_test, y_test, display_labels=Labels);"
   ]
  },
  {
   "cell_type": "code",
   "execution_count": 38,
   "id": "d607db3d",
   "metadata": {},
   "outputs": [
    {
     "name": "stdout",
     "output_type": "stream",
     "text": [
      "                precision    recall  f1-score   support\n",
      "\n",
      "Home Team Loss       0.81      0.79      0.80      8397\n",
      " Home Team Win       0.86      0.88      0.87     12160\n",
      "\n",
      "      accuracy                           0.84     20557\n",
      "     macro avg       0.83      0.83      0.83     20557\n",
      "  weighted avg       0.84      0.84      0.84     20557\n",
      "\n",
      "%%%%%%%%%%%%%%%%%%%%%%%%%%%%%%%%%%%%%%%%%%%%%%%%%%%%%%%%%%%%%%%%%%%%%%%%%%%%%%%%%%%%%%%%%%%%%%%%%%%%%%%%%%%%%%%%%%%%%%%%\n",
      "\n",
      "                precision    recall  f1-score   support\n",
      "\n",
      "Home Team Loss       0.82      0.79      0.81      2145\n",
      " Home Team Win       0.85      0.88      0.87      2995\n",
      "\n",
      "      accuracy                           0.84      5140\n",
      "     macro avg       0.84      0.83      0.84      5140\n",
      "  weighted avg       0.84      0.84      0.84      5140\n",
      "\n"
     ]
    }
   ],
   "source": [
    "class_names = ['Home Team Loss', 'Home Team Win']\n",
    "\n",
    "print(classification_report(y_train, lr.predict(X_train), target_names=class_names))\n",
    "\n",
    "print('%%%%'*30)\n",
    "print()\n",
    "\n",
    "print(classification_report(y_test, y_pred_lr, target_names=class_names))\n"
   ]
  },
  {
   "cell_type": "code",
   "execution_count": 39,
   "id": "88ca88f6",
   "metadata": {},
   "outputs": [],
   "source": [
    "#Prediccion de un juego de post-temporada 2021-2022 entre Dallas Mavericks vs Golden State Warriors"
   ]
  },
  {
   "cell_type": "code",
   "execution_count": 40,
   "id": "ab094b6f",
   "metadata": {},
   "outputs": [
    {
     "data": {
      "text/html": [
       "<div>\n",
       "<style scoped>\n",
       "    .dataframe tbody tr th:only-of-type {\n",
       "        vertical-align: middle;\n",
       "    }\n",
       "\n",
       "    .dataframe tbody tr th {\n",
       "        vertical-align: top;\n",
       "    }\n",
       "\n",
       "    .dataframe thead th {\n",
       "        text-align: right;\n",
       "    }\n",
       "</style>\n",
       "<table border=\"1\" class=\"dataframe\">\n",
       "  <thead>\n",
       "    <tr style=\"text-align: right;\">\n",
       "      <th></th>\n",
       "      <th>diff_ast</th>\n",
       "      <th>diff_fg</th>\n",
       "      <th>diff_rb</th>\n",
       "      <th>diff_fg3</th>\n",
       "      <th>diff_ft</th>\n",
       "    </tr>\n",
       "  </thead>\n",
       "  <tbody>\n",
       "    <tr>\n",
       "      <th>0</th>\n",
       "      <td>2.0</td>\n",
       "      <td>-0.024</td>\n",
       "      <td>7.0</td>\n",
       "      <td>-0.024</td>\n",
       "      <td>-0.115</td>\n",
       "    </tr>\n",
       "  </tbody>\n",
       "</table>\n",
       "</div>"
      ],
      "text/plain": [
       "   diff_ast  diff_fg  diff_rb  diff_fg3  diff_ft\n",
       "0       2.0   -0.024      7.0    -0.024   -0.115"
      ]
     },
     "execution_count": 40,
     "metadata": {},
     "output_type": "execute_result"
    }
   ],
   "source": [
    "X.head(1)"
   ]
  },
  {
   "cell_type": "code",
   "execution_count": 41,
   "id": "60d47da4",
   "metadata": {},
   "outputs": [],
   "source": [
    "new_data = np.array([[1, -0.05, 3, -0.05, -0.2]])"
   ]
  },
  {
   "cell_type": "code",
   "execution_count": 42,
   "id": "65adaa18",
   "metadata": {},
   "outputs": [
    {
     "data": {
      "text/plain": [
       "array([0], dtype=int64)"
      ]
     },
     "execution_count": 42,
     "metadata": {},
     "output_type": "execute_result"
    }
   ],
   "source": [
    "lr.predict(new_data)"
   ]
  },
  {
   "cell_type": "code",
   "execution_count": 43,
   "id": "6dec3aa1",
   "metadata": {},
   "outputs": [
    {
     "data": {
      "text/plain": [
       "array([0.50056835, 0.94080818, 0.18323897, ..., 0.93361308, 0.18380942,\n",
       "       0.25907585])"
      ]
     },
     "execution_count": 43,
     "metadata": {},
     "output_type": "execute_result"
    }
   ],
   "source": [
    "lr.predict_proba(X)[::, 1]"
   ]
  },
  {
   "cell_type": "code",
   "execution_count": 44,
   "id": "8649450a",
   "metadata": {},
   "outputs": [
    {
     "data": {
      "text/plain": [
       "array([0.50056835, 0.94080818, 0.18323897, ..., 0.93361308, 0.18380942,\n",
       "       0.25907585])"
      ]
     },
     "execution_count": 44,
     "metadata": {},
     "output_type": "execute_result"
    }
   ],
   "source": [
    "y_pred_prob = lr.predict_proba(X)[::, 1]\n",
    "y_pred_prob"
   ]
  },
  {
   "cell_type": "code",
   "execution_count": 45,
   "id": "b3ef5679",
   "metadata": {},
   "outputs": [
    {
     "data": {
      "image/png": "[encoded data removed]",
      "text/plain": [
       "<Figure size 432x288 with 1 Axes>"
      ]
     },
     "metadata": {
      "needs_background": "light"
     },
     "output_type": "display_data"
    }
   ],
   "source": [
    "# False positive rate \n",
    "# True positive rate\n",
    "fpr, tpr, _  = roc_curve(y, y_pred_prob)\n",
    "auc = roc_auc_score(y, y_pred_prob)\n",
    "plt.plot(fpr, tpr);"
   ]
  },
  {
   "cell_type": "code",
   "execution_count": 46,
   "id": "7b2af530",
   "metadata": {},
   "outputs": [
    {
     "data": {
      "text/plain": [
       "0.9243489319027482"
      ]
     },
     "execution_count": 46,
     "metadata": {},
     "output_type": "execute_result"
    }
   ],
   "source": [
    "auc"
   ]
  },
  {
   "cell_type": "code",
   "execution_count": 47,
   "id": "cc800399",
   "metadata": {},
   "outputs": [],
   "source": [
    "#Modelos de Clasificacion Supervisada para ver el comportamiento de los coeficientes de certitud y determinacion"
   ]
  },
  {
   "cell_type": "code",
   "execution_count": 48,
   "id": "9e8c56a6",
   "metadata": {},
   "outputs": [],
   "source": [
    "#DecisionTreeClassifier"
   ]
  },
  {
   "cell_type": "code",
   "execution_count": 49,
   "id": "af960acc",
   "metadata": {},
   "outputs": [],
   "source": [
    "X_train, X_test, y_train, y_test = train_test_split(X, y, test_size=0.3)"
   ]
  },
  {
   "cell_type": "code",
   "execution_count": 50,
   "id": "86035480",
   "metadata": {},
   "outputs": [
    {
     "data": {
      "text/plain": [
       "(17987, 5)"
      ]
     },
     "execution_count": 50,
     "metadata": {},
     "output_type": "execute_result"
    }
   ],
   "source": [
    "X_train.shape"
   ]
  },
  {
   "cell_type": "code",
   "execution_count": 51,
   "id": "140ddfdc",
   "metadata": {},
   "outputs": [
    {
     "data": {
      "text/html": [
       "<style>#sk-container-id-3 {color: black;background-color: white;}#sk-container-id-3 pre{padding: 0;}#sk-container-id-3 div.sk-toggleable {background-color: white;}#sk-container-id-3 label.sk-toggleable__label {cursor: pointer;display: block;width: 100%;margin-bottom: 0;padding: 0.3em;box-sizing: border-box;text-align: center;}#sk-container-id-3 label.sk-toggleable__label-arrow:before {content: \"▸\";float: left;margin-right: 0.25em;color: #696969;}#sk-container-id-3 label.sk-toggleable__label-arrow:hover:before {color: black;}#sk-container-id-3 div.sk-estimator:hover label.sk-toggleable__label-arrow:before {color: black;}#sk-container-id-3 div.sk-toggleable__content {max-height: 0;max-width: 0;overflow: hidden;text-align: left;background-color: #f0f8ff;}#sk-container-id-3 div.sk-toggleable__content pre {margin: 0.2em;color: black;border-radius: 0.25em;background-color: #f0f8ff;}#sk-container-id-3 input.sk-toggleable__control:checked~div.sk-toggleable__content {max-height: 200px;max-width: 100%;overflow: auto;}#sk-container-id-3 input.sk-toggleable__control:checked~label.sk-toggleable__label-arrow:before {content: \"▾\";}#sk-container-id-3 div.sk-estimator input.sk-toggleable__control:checked~label.sk-toggleable__label {background-color: #d4ebff;}#sk-container-id-3 div.sk-label input.sk-toggleable__control:checked~label.sk-toggleable__label {background-color: #d4ebff;}#sk-container-id-3 input.sk-hidden--visually {border: 0;clip: rect(1px 1px 1px 1px);clip: rect(1px, 1px, 1px, 1px);height: 1px;margin: -1px;overflow: hidden;padding: 0;position: absolute;width: 1px;}#sk-container-id-3 div.sk-estimator {font-family: monospace;background-color: #f0f8ff;border: 1px dotted black;border-radius: 0.25em;box-sizing: border-box;margin-bottom: 0.5em;}#sk-container-id-3 div.sk-estimator:hover {background-color: #d4ebff;}#sk-container-id-3 div.sk-parallel-item::after {content: \"\";width: 100%;border-bottom: 1px solid gray;flex-grow: 1;}#sk-container-id-3 div.sk-label:hover label.sk-toggleable__label {background-color: #d4ebff;}#sk-container-id-3 div.sk-serial::before {content: \"\";position: absolute;border-left: 1px solid gray;box-sizing: border-box;top: 0;bottom: 0;left: 50%;z-index: 0;}#sk-container-id-3 div.sk-serial {display: flex;flex-direction: column;align-items: center;background-color: white;padding-right: 0.2em;padding-left: 0.2em;position: relative;}#sk-container-id-3 div.sk-item {position: relative;z-index: 1;}#sk-container-id-3 div.sk-parallel {display: flex;align-items: stretch;justify-content: center;background-color: white;position: relative;}#sk-container-id-3 div.sk-item::before, #sk-container-id-3 div.sk-parallel-item::before {content: \"\";position: absolute;border-left: 1px solid gray;box-sizing: border-box;top: 0;bottom: 0;left: 50%;z-index: -1;}#sk-container-id-3 div.sk-parallel-item {display: flex;flex-direction: column;z-index: 1;position: relative;background-color: white;}#sk-container-id-3 div.sk-parallel-item:first-child::after {align-self: flex-end;width: 50%;}#sk-container-id-3 div.sk-parallel-item:last-child::after {align-self: flex-start;width: 50%;}#sk-container-id-3 div.sk-parallel-item:only-child::after {width: 0;}#sk-container-id-3 div.sk-dashed-wrapped {border: 1px dashed gray;margin: 0 0.4em 0.5em 0.4em;box-sizing: border-box;padding-bottom: 0.4em;background-color: white;}#sk-container-id-3 div.sk-label label {font-family: monospace;font-weight: bold;display: inline-block;line-height: 1.2em;}#sk-container-id-3 div.sk-label-container {text-align: center;}#sk-container-id-3 div.sk-container {/* jupyter's `normalize.less` sets `[hidden] { display: none; }` but bootstrap.min.css set `[hidden] { display: none !important; }` so we also need the `!important` here to be able to override the default hidden behavior on the sphinx rendered scikit-learn.org. See: https://github.com/scikit-learn/scikit-learn/issues/21755 */display: inline-block !important;position: relative;}#sk-container-id-3 div.sk-text-repr-fallback {display: none;}</style><div id=\"sk-container-id-3\" class=\"sk-top-container\"><div class=\"sk-text-repr-fallback\"><pre>DecisionTreeClassifier(max_depth=4, random_state=0)</pre><b>In a Jupyter environment, please rerun this cell to show the HTML representation or trust the notebook. <br />On GitHub, the HTML representation is unable to render, please try loading this page with nbviewer.org.</b></div><div class=\"sk-container\" hidden><div class=\"sk-item\"><div class=\"sk-estimator sk-toggleable\"><input class=\"sk-toggleable__control sk-hidden--visually\" id=\"sk-estimator-id-3\" type=\"checkbox\" checked><label for=\"sk-estimator-id-3\" class=\"sk-toggleable__label sk-toggleable__label-arrow\">DecisionTreeClassifier</label><div class=\"sk-toggleable__content\"><pre>DecisionTreeClassifier(max_depth=4, random_state=0)</pre></div></div></div></div></div>"
      ],
      "text/plain": [
       "DecisionTreeClassifier(max_depth=4, random_state=0)"
      ]
     },
     "execution_count": 51,
     "metadata": {},
     "output_type": "execute_result"
    }
   ],
   "source": [
    "params = {'random_state': 0, 'max_depth': 4}\n",
    "tree_Team = DecisionTreeClassifier(**params)\n",
    "tree_Team.fit(X_train, y_train)"
   ]
  },
  {
   "cell_type": "code",
   "execution_count": 52,
   "id": "1a11725b",
   "metadata": {},
   "outputs": [
    {
     "data": {
      "text/plain": [
       "array([0, 0, 0, ..., 1, 1, 0], dtype=int64)"
      ]
     },
     "execution_count": 52,
     "metadata": {},
     "output_type": "execute_result"
    }
   ],
   "source": [
    "y_predict_tree = tree_Team.predict(X_test)\n",
    "y_predict_tree"
   ]
  },
  {
   "cell_type": "code",
   "execution_count": 53,
   "id": "86b21369",
   "metadata": {},
   "outputs": [
    {
     "data": {
      "text/plain": [
       "(0.8184800133429699, 0.8073929961089494)"
      ]
     },
     "execution_count": 53,
     "metadata": {},
     "output_type": "execute_result"
    }
   ],
   "source": [
    "tree_Team.score(X_train, y_train), tree_Team.score(X_test, y_test)"
   ]
  },
  {
   "cell_type": "code",
   "execution_count": 54,
   "id": "407aa28a",
   "metadata": {},
   "outputs": [
    {
     "data": {
      "image/png": "[encoded data removed]",
      "text/plain": [
       "<Figure size 1800x1440 with 1 Axes>"
      ]
     },
     "metadata": {
      "needs_background": "light"
     },
     "output_type": "display_data"
    }
   ],
   "source": [
    "plt.figure(figsize=(25, 20))\n",
    "fig = tree.plot_tree(tree_Team)"
   ]
  },
  {
   "cell_type": "code",
   "execution_count": 55,
   "id": "d0c282ae",
   "metadata": {},
   "outputs": [
    {
     "name": "stdout",
     "output_type": "stream",
     "text": [
      "                precision    recall  f1-score   support\n",
      "\n",
      "Home Team Loss       0.76      0.81      0.79      7430\n",
      " Home Team Win       0.86      0.82      0.84     10557\n",
      "\n",
      "      accuracy                           0.82     17987\n",
      "     macro avg       0.81      0.82      0.81     17987\n",
      "  weighted avg       0.82      0.82      0.82     17987\n",
      "\n",
      "%%%%%%%%%%%%%%%%%%%%%%%%%%%%%%%%%%%%%%%%%%%%%%%%%%%%%%%%%%%%%%%%%%%%%%%%%%%%%%%%%%%%%%%%%%%%%%%%%%%%%%%%%%%%%%%%%%%%%%%%\n",
      "\n",
      "                precision    recall  f1-score   support\n",
      "\n",
      "Home Team Loss       0.74      0.81      0.77      3112\n",
      " Home Team Win       0.86      0.81      0.83      4598\n",
      "\n",
      "      accuracy                           0.81      7710\n",
      "     macro avg       0.80      0.81      0.80      7710\n",
      "  weighted avg       0.81      0.81      0.81      7710\n",
      "\n"
     ]
    }
   ],
   "source": [
    "class_names = ['Home Team Loss', 'Home Team Win']\n",
    "\n",
    "print(classification_report(y_train, tree_Team.predict(X_train), target_names=class_names))\n",
    "\n",
    "print('%%%%'*30)\n",
    "print()\n",
    "\n",
    "print(classification_report(y_test, y_predict_tree, target_names=class_names))"
   ]
  },
  {
   "cell_type": "code",
   "execution_count": 56,
   "id": "ab173565",
   "metadata": {},
   "outputs": [
    {
     "data": {
      "image/png": "[encoded data removed]",
      "text/plain": [
       "<Figure size 432x288 with 2 Axes>"
      ]
     },
     "metadata": {
      "needs_background": "light"
     },
     "output_type": "display_data"
    }
   ],
   "source": [
    "Labels = ['Home Team Loss', 'Home Team Win']\n",
    "\n",
    "metrics.plot_confusion_matrix(tree_Team, X_test, y_test, display_labels=Labels);"
   ]
  },
  {
   "cell_type": "code",
   "execution_count": 57,
   "id": "f92ac2f2",
   "metadata": {},
   "outputs": [
    {
     "data": {
      "text/plain": [
       "7710"
      ]
     },
     "execution_count": 57,
     "metadata": {},
     "output_type": "execute_result"
    }
   ],
   "source": [
    "len(X_test)"
   ]
  },
  {
   "cell_type": "code",
   "execution_count": 58,
   "id": "f009efcb",
   "metadata": {},
   "outputs": [
    {
     "data": {
      "text/plain": [
       "(7710, 2)"
      ]
     },
     "execution_count": 58,
     "metadata": {},
     "output_type": "execute_result"
    }
   ],
   "source": [
    "tree_Team.predict_proba(X_test).shape"
   ]
  },
  {
   "cell_type": "code",
   "execution_count": 59,
   "id": "c3ed1633",
   "metadata": {},
   "outputs": [
    {
     "data": {
      "text/plain": [
       "array([0.14624933, 0.44747475, 0.02334152, ..., 0.86640625, 0.97623707,\n",
       "       0.02334152])"
      ]
     },
     "execution_count": 59,
     "metadata": {},
     "output_type": "execute_result"
    }
   ],
   "source": [
    "tree_Team.predict_proba(X_test)[::, 1]"
   ]
  },
  {
   "cell_type": "code",
   "execution_count": 60,
   "id": "94330a50",
   "metadata": {},
   "outputs": [
    {
     "data": {
      "image/png": "[encoded data removed]",
      "text/plain": [
       "<Figure size 432x288 with 1 Axes>"
      ]
     },
     "metadata": {
      "needs_background": "light"
     },
     "output_type": "display_data"
    }
   ],
   "source": [
    "y_pred_prob = tree_Team.predict_proba(X_test)[::, 1]\n",
    "\n",
    "fpr, tpr, _ = metrics.roc_curve(y_test, y_pred_prob)\n",
    "auc = metrics.roc_auc_score(y_test, y_pred_prob)\n",
    "\n",
    "plt.plot(fpr, tpr);"
   ]
  },
  {
   "cell_type": "code",
   "execution_count": 61,
   "id": "5b38c9f7",
   "metadata": {},
   "outputs": [
    {
     "data": {
      "text/plain": [
       "0.8869573895434586"
      ]
     },
     "execution_count": 61,
     "metadata": {},
     "output_type": "execute_result"
    }
   ],
   "source": [
    "auc"
   ]
  },
  {
   "cell_type": "code",
   "execution_count": 62,
   "id": "b5f68f09",
   "metadata": {},
   "outputs": [],
   "source": [
    "#Random Forest Classifier"
   ]
  },
  {
   "cell_type": "code",
   "execution_count": 63,
   "id": "02101b02",
   "metadata": {},
   "outputs": [
    {
     "data": {
      "text/html": [
       "<style>#sk-container-id-4 {color: black;background-color: white;}#sk-container-id-4 pre{padding: 0;}#sk-container-id-4 div.sk-toggleable {background-color: white;}#sk-container-id-4 label.sk-toggleable__label {cursor: pointer;display: block;width: 100%;margin-bottom: 0;padding: 0.3em;box-sizing: border-box;text-align: center;}#sk-container-id-4 label.sk-toggleable__label-arrow:before {content: \"▸\";float: left;margin-right: 0.25em;color: #696969;}#sk-container-id-4 label.sk-toggleable__label-arrow:hover:before {color: black;}#sk-container-id-4 div.sk-estimator:hover label.sk-toggleable__label-arrow:before {color: black;}#sk-container-id-4 div.sk-toggleable__content {max-height: 0;max-width: 0;overflow: hidden;text-align: left;background-color: #f0f8ff;}#sk-container-id-4 div.sk-toggleable__content pre {margin: 0.2em;color: black;border-radius: 0.25em;background-color: #f0f8ff;}#sk-container-id-4 input.sk-toggleable__control:checked~div.sk-toggleable__content {max-height: 200px;max-width: 100%;overflow: auto;}#sk-container-id-4 input.sk-toggleable__control:checked~label.sk-toggleable__label-arrow:before {content: \"▾\";}#sk-container-id-4 div.sk-estimator input.sk-toggleable__control:checked~label.sk-toggleable__label {background-color: #d4ebff;}#sk-container-id-4 div.sk-label input.sk-toggleable__control:checked~label.sk-toggleable__label {background-color: #d4ebff;}#sk-container-id-4 input.sk-hidden--visually {border: 0;clip: rect(1px 1px 1px 1px);clip: rect(1px, 1px, 1px, 1px);height: 1px;margin: -1px;overflow: hidden;padding: 0;position: absolute;width: 1px;}#sk-container-id-4 div.sk-estimator {font-family: monospace;background-color: #f0f8ff;border: 1px dotted black;border-radius: 0.25em;box-sizing: border-box;margin-bottom: 0.5em;}#sk-container-id-4 div.sk-estimator:hover {background-color: #d4ebff;}#sk-container-id-4 div.sk-parallel-item::after {content: \"\";width: 100%;border-bottom: 1px solid gray;flex-grow: 1;}#sk-container-id-4 div.sk-label:hover label.sk-toggleable__label {background-color: #d4ebff;}#sk-container-id-4 div.sk-serial::before {content: \"\";position: absolute;border-left: 1px solid gray;box-sizing: border-box;top: 0;bottom: 0;left: 50%;z-index: 0;}#sk-container-id-4 div.sk-serial {display: flex;flex-direction: column;align-items: center;background-color: white;padding-right: 0.2em;padding-left: 0.2em;position: relative;}#sk-container-id-4 div.sk-item {position: relative;z-index: 1;}#sk-container-id-4 div.sk-parallel {display: flex;align-items: stretch;justify-content: center;background-color: white;position: relative;}#sk-container-id-4 div.sk-item::before, #sk-container-id-4 div.sk-parallel-item::before {content: \"\";position: absolute;border-left: 1px solid gray;box-sizing: border-box;top: 0;bottom: 0;left: 50%;z-index: -1;}#sk-container-id-4 div.sk-parallel-item {display: flex;flex-direction: column;z-index: 1;position: relative;background-color: white;}#sk-container-id-4 div.sk-parallel-item:first-child::after {align-self: flex-end;width: 50%;}#sk-container-id-4 div.sk-parallel-item:last-child::after {align-self: flex-start;width: 50%;}#sk-container-id-4 div.sk-parallel-item:only-child::after {width: 0;}#sk-container-id-4 div.sk-dashed-wrapped {border: 1px dashed gray;margin: 0 0.4em 0.5em 0.4em;box-sizing: border-box;padding-bottom: 0.4em;background-color: white;}#sk-container-id-4 div.sk-label label {font-family: monospace;font-weight: bold;display: inline-block;line-height: 1.2em;}#sk-container-id-4 div.sk-label-container {text-align: center;}#sk-container-id-4 div.sk-container {/* jupyter's `normalize.less` sets `[hidden] { display: none; }` but bootstrap.min.css set `[hidden] { display: none !important; }` so we also need the `!important` here to be able to override the default hidden behavior on the sphinx rendered scikit-learn.org. See: https://github.com/scikit-learn/scikit-learn/issues/21755 */display: inline-block !important;position: relative;}#sk-container-id-4 div.sk-text-repr-fallback {display: none;}</style><div id=\"sk-container-id-4\" class=\"sk-top-container\"><div class=\"sk-text-repr-fallback\"><pre>RandomForestClassifier(max_depth=4, random_state=0)</pre><b>In a Jupyter environment, please rerun this cell to show the HTML representation or trust the notebook. <br />On GitHub, the HTML representation is unable to render, please try loading this page with nbviewer.org.</b></div><div class=\"sk-container\" hidden><div class=\"sk-item\"><div class=\"sk-estimator sk-toggleable\"><input class=\"sk-toggleable__control sk-hidden--visually\" id=\"sk-estimator-id-4\" type=\"checkbox\" checked><label for=\"sk-estimator-id-4\" class=\"sk-toggleable__label sk-toggleable__label-arrow\">RandomForestClassifier</label><div class=\"sk-toggleable__content\"><pre>RandomForestClassifier(max_depth=4, random_state=0)</pre></div></div></div></div></div>"
      ],
      "text/plain": [
       "RandomForestClassifier(max_depth=4, random_state=0)"
      ]
     },
     "execution_count": 63,
     "metadata": {},
     "output_type": "execute_result"
    }
   ],
   "source": [
    "forest = RandomForestClassifier(n_estimators=100, max_depth=4, random_state=0)\n",
    "forest.fit(X_train, y_train)"
   ]
  },
  {
   "cell_type": "code",
   "execution_count": 64,
   "id": "21e35c7c",
   "metadata": {},
   "outputs": [
    {
     "data": {
      "text/html": [
       "<div>\n",
       "<style scoped>\n",
       "    .dataframe tbody tr th:only-of-type {\n",
       "        vertical-align: middle;\n",
       "    }\n",
       "\n",
       "    .dataframe tbody tr th {\n",
       "        vertical-align: top;\n",
       "    }\n",
       "\n",
       "    .dataframe thead th {\n",
       "        text-align: right;\n",
       "    }\n",
       "</style>\n",
       "<table border=\"1\" class=\"dataframe\">\n",
       "  <thead>\n",
       "    <tr style=\"text-align: right;\">\n",
       "      <th></th>\n",
       "      <th>Actual</th>\n",
       "      <th>Predicted</th>\n",
       "    </tr>\n",
       "  </thead>\n",
       "  <tbody>\n",
       "    <tr>\n",
       "      <th>1458</th>\n",
       "      <td>0</td>\n",
       "      <td>0</td>\n",
       "    </tr>\n",
       "    <tr>\n",
       "      <th>10001</th>\n",
       "      <td>0</td>\n",
       "      <td>1</td>\n",
       "    </tr>\n",
       "    <tr>\n",
       "      <th>24444</th>\n",
       "      <td>0</td>\n",
       "      <td>0</td>\n",
       "    </tr>\n",
       "    <tr>\n",
       "      <th>16874</th>\n",
       "      <td>0</td>\n",
       "      <td>0</td>\n",
       "    </tr>\n",
       "    <tr>\n",
       "      <th>19110</th>\n",
       "      <td>1</td>\n",
       "      <td>0</td>\n",
       "    </tr>\n",
       "  </tbody>\n",
       "</table>\n",
       "</div>"
      ],
      "text/plain": [
       "       Actual  Predicted\n",
       "1458        0          0\n",
       "10001       0          1\n",
       "24444       0          0\n",
       "16874       0          0\n",
       "19110       1          0"
      ]
     },
     "execution_count": 64,
     "metadata": {},
     "output_type": "execute_result"
    }
   ],
   "source": [
    "y_pred_forest = forest.predict(X_test)\n",
    "df_predict = pd.DataFrame({'Actual': y_test, 'Predicted': y_pred_forest})\n",
    "df_predict.head()"
   ]
  },
  {
   "cell_type": "code",
   "execution_count": 65,
   "id": "dd208447",
   "metadata": {},
   "outputs": [
    {
     "name": "stdout",
     "output_type": "stream",
     "text": [
      "                precision    recall  f1-score   support\n",
      "\n",
      "Home Team Loss       0.79      0.78      0.79      3112\n",
      " Home Team Win       0.85      0.86      0.86      4598\n",
      "\n",
      "      accuracy                           0.83      7710\n",
      "     macro avg       0.82      0.82      0.82      7710\n",
      "  weighted avg       0.83      0.83      0.83      7710\n",
      "\n"
     ]
    }
   ],
   "source": [
    "class_names = ['Home Team Loss', 'Home Team Win']\n",
    "print(classification_report(y_test, y_pred_forest, target_names=class_names ))"
   ]
  },
  {
   "cell_type": "code",
   "execution_count": 66,
   "id": "dccc7060",
   "metadata": {},
   "outputs": [
    {
     "data": {
      "image/png": "[encoded data removed]",
      "text/plain": [
       "<Figure size 432x288 with 2 Axes>"
      ]
     },
     "metadata": {
      "needs_background": "light"
     },
     "output_type": "display_data"
    }
   ],
   "source": [
    "Labels = ['Home Team Loss', 'Home Team Win']\n",
    "\n",
    "metrics.plot_confusion_matrix(forest, X_test, y_test, display_labels=Labels);"
   ]
  },
  {
   "cell_type": "code",
   "execution_count": 67,
   "id": "b8a93fb2",
   "metadata": {},
   "outputs": [],
   "source": [
    "#Extra Tree Classifier"
   ]
  },
  {
   "cell_type": "code",
   "execution_count": 68,
   "id": "bdf95f6e",
   "metadata": {},
   "outputs": [
    {
     "name": "stdout",
     "output_type": "stream",
     "text": [
      "                precision    recall  f1-score   support\n",
      "\n",
      "Home Team Loss       0.88      0.66      0.75      7430\n",
      " Home Team Win       0.79      0.94      0.86     10557\n",
      "\n",
      "      accuracy                           0.82     17987\n",
      "     macro avg       0.84      0.80      0.80     17987\n",
      "  weighted avg       0.83      0.82      0.81     17987\n",
      "\n"
     ]
    }
   ],
   "source": [
    "extra_tree = ExtraTreesClassifier(n_estimators=100, max_depth=4, random_state=0)\n",
    "extra_tree.fit(X_train, y_train)\n",
    "y_pred_extra = extra_tree.predict(X_train)\n",
    "print(classification_report(y_train, y_pred_extra, target_names=class_names))"
   ]
  },
  {
   "cell_type": "code",
   "execution_count": 69,
   "id": "7b9ebf06",
   "metadata": {},
   "outputs": [
    {
     "name": "stdout",
     "output_type": "stream",
     "text": [
      "                precision    recall  f1-score   support\n",
      "\n",
      "Home Team Loss       0.88      0.59      0.70      3112\n",
      " Home Team Win       0.77      0.95      0.85      4598\n",
      "\n",
      "      accuracy                           0.80      7710\n",
      "     macro avg       0.83      0.77      0.78      7710\n",
      "  weighted avg       0.82      0.80      0.79      7710\n",
      "\n"
     ]
    }
   ],
   "source": [
    "extra_tree = ExtraTreesClassifier(n_estimators=100, max_depth=3, random_state=0)\n",
    "extra_tree.fit(X_train, y_train)\n",
    "y_pred_extraC = extra_tree.predict(X_test)\n",
    "print(classification_report(y_test, y_pred_extraC, target_names=class_names))"
   ]
  },
  {
   "cell_type": "code",
   "execution_count": 70,
   "id": "dbee7f64",
   "metadata": {},
   "outputs": [
    {
     "data": {
      "image/png": "[encoded data removed]",
      "text/plain": [
       "<Figure size 432x288 with 2 Axes>"
      ]
     },
     "metadata": {
      "needs_background": "light"
     },
     "output_type": "display_data"
    }
   ],
   "source": [
    "Labels = ['Home Team Loss', 'Home Team Win']\n",
    "\n",
    "metrics.plot_confusion_matrix(extra_tree, X_test, y_test, display_labels=Labels);"
   ]
  },
  {
   "cell_type": "code",
   "execution_count": 71,
   "id": "d0810407",
   "metadata": {},
   "outputs": [
    {
     "data": {
      "text/plain": [
       "array([0.49650008, 0.57690514, 0.29129774, ..., 0.71093261, 0.70147484,\n",
       "       0.27189684])"
      ]
     },
     "execution_count": 71,
     "metadata": {},
     "output_type": "execute_result"
    }
   ],
   "source": [
    "extra_tree.predict_proba(X_test)[::, 1]"
   ]
  },
  {
   "cell_type": "code",
   "execution_count": 72,
   "id": "a5c520a5",
   "metadata": {},
   "outputs": [
    {
     "data": {
      "image/png": "[encoded data removed]",
      "text/plain": [
       "<Figure size 432x288 with 1 Axes>"
      ]
     },
     "metadata": {
      "needs_background": "light"
     },
     "output_type": "display_data"
    }
   ],
   "source": [
    "y_pred_prob = extra_tree.predict_proba(X_test)[::, 1]\n",
    "\n",
    "fpr, tpr, _ = metrics.roc_curve(y_test, y_pred_prob)\n",
    "auc = metrics.roc_auc_score(y_test, y_pred_prob)\n",
    "\n",
    "plt.plot(fpr, tpr);"
   ]
  },
  {
   "cell_type": "code",
   "execution_count": 73,
   "id": "d07ce3fb",
   "metadata": {},
   "outputs": [
    {
     "data": {
      "text/plain": [
       "0.9123180442821344"
      ]
     },
     "execution_count": 73,
     "metadata": {},
     "output_type": "execute_result"
    }
   ],
   "source": [
    "auc"
   ]
  },
  {
   "cell_type": "code",
   "execution_count": 74,
   "id": "d08aa92e",
   "metadata": {},
   "outputs": [],
   "source": [
    "#SVM"
   ]
  },
  {
   "cell_type": "code",
   "execution_count": 75,
   "id": "e04bba8c",
   "metadata": {},
   "outputs": [
    {
     "data": {
      "text/html": [
       "<style>#sk-container-id-5 {color: black;background-color: white;}#sk-container-id-5 pre{padding: 0;}#sk-container-id-5 div.sk-toggleable {background-color: white;}#sk-container-id-5 label.sk-toggleable__label {cursor: pointer;display: block;width: 100%;margin-bottom: 0;padding: 0.3em;box-sizing: border-box;text-align: center;}#sk-container-id-5 label.sk-toggleable__label-arrow:before {content: \"▸\";float: left;margin-right: 0.25em;color: #696969;}#sk-container-id-5 label.sk-toggleable__label-arrow:hover:before {color: black;}#sk-container-id-5 div.sk-estimator:hover label.sk-toggleable__label-arrow:before {color: black;}#sk-container-id-5 div.sk-toggleable__content {max-height: 0;max-width: 0;overflow: hidden;text-align: left;background-color: #f0f8ff;}#sk-container-id-5 div.sk-toggleable__content pre {margin: 0.2em;color: black;border-radius: 0.25em;background-color: #f0f8ff;}#sk-container-id-5 input.sk-toggleable__control:checked~div.sk-toggleable__content {max-height: 200px;max-width: 100%;overflow: auto;}#sk-container-id-5 input.sk-toggleable__control:checked~label.sk-toggleable__label-arrow:before {content: \"▾\";}#sk-container-id-5 div.sk-estimator input.sk-toggleable__control:checked~label.sk-toggleable__label {background-color: #d4ebff;}#sk-container-id-5 div.sk-label input.sk-toggleable__control:checked~label.sk-toggleable__label {background-color: #d4ebff;}#sk-container-id-5 input.sk-hidden--visually {border: 0;clip: rect(1px 1px 1px 1px);clip: rect(1px, 1px, 1px, 1px);height: 1px;margin: -1px;overflow: hidden;padding: 0;position: absolute;width: 1px;}#sk-container-id-5 div.sk-estimator {font-family: monospace;background-color: #f0f8ff;border: 1px dotted black;border-radius: 0.25em;box-sizing: border-box;margin-bottom: 0.5em;}#sk-container-id-5 div.sk-estimator:hover {background-color: #d4ebff;}#sk-container-id-5 div.sk-parallel-item::after {content: \"\";width: 100%;border-bottom: 1px solid gray;flex-grow: 1;}#sk-container-id-5 div.sk-label:hover label.sk-toggleable__label {background-color: #d4ebff;}#sk-container-id-5 div.sk-serial::before {content: \"\";position: absolute;border-left: 1px solid gray;box-sizing: border-box;top: 0;bottom: 0;left: 50%;z-index: 0;}#sk-container-id-5 div.sk-serial {display: flex;flex-direction: column;align-items: center;background-color: white;padding-right: 0.2em;padding-left: 0.2em;position: relative;}#sk-container-id-5 div.sk-item {position: relative;z-index: 1;}#sk-container-id-5 div.sk-parallel {display: flex;align-items: stretch;justify-content: center;background-color: white;position: relative;}#sk-container-id-5 div.sk-item::before, #sk-container-id-5 div.sk-parallel-item::before {content: \"\";position: absolute;border-left: 1px solid gray;box-sizing: border-box;top: 0;bottom: 0;left: 50%;z-index: -1;}#sk-container-id-5 div.sk-parallel-item {display: flex;flex-direction: column;z-index: 1;position: relative;background-color: white;}#sk-container-id-5 div.sk-parallel-item:first-child::after {align-self: flex-end;width: 50%;}#sk-container-id-5 div.sk-parallel-item:last-child::after {align-self: flex-start;width: 50%;}#sk-container-id-5 div.sk-parallel-item:only-child::after {width: 0;}#sk-container-id-5 div.sk-dashed-wrapped {border: 1px dashed gray;margin: 0 0.4em 0.5em 0.4em;box-sizing: border-box;padding-bottom: 0.4em;background-color: white;}#sk-container-id-5 div.sk-label label {font-family: monospace;font-weight: bold;display: inline-block;line-height: 1.2em;}#sk-container-id-5 div.sk-label-container {text-align: center;}#sk-container-id-5 div.sk-container {/* jupyter's `normalize.less` sets `[hidden] { display: none; }` but bootstrap.min.css set `[hidden] { display: none !important; }` so we also need the `!important` here to be able to override the default hidden behavior on the sphinx rendered scikit-learn.org. See: https://github.com/scikit-learn/scikit-learn/issues/21755 */display: inline-block !important;position: relative;}#sk-container-id-5 div.sk-text-repr-fallback {display: none;}</style><div id=\"sk-container-id-5\" class=\"sk-top-container\"><div class=\"sk-text-repr-fallback\"><pre>LinearSVC(random_state=0)</pre><b>In a Jupyter environment, please rerun this cell to show the HTML representation or trust the notebook. <br />On GitHub, the HTML representation is unable to render, please try loading this page with nbviewer.org.</b></div><div class=\"sk-container\" hidden><div class=\"sk-item\"><div class=\"sk-estimator sk-toggleable\"><input class=\"sk-toggleable__control sk-hidden--visually\" id=\"sk-estimator-id-5\" type=\"checkbox\" checked><label for=\"sk-estimator-id-5\" class=\"sk-toggleable__label sk-toggleable__label-arrow\">LinearSVC</label><div class=\"sk-toggleable__content\"><pre>LinearSVC(random_state=0)</pre></div></div></div></div></div>"
      ],
      "text/plain": [
       "LinearSVC(random_state=0)"
      ]
     },
     "execution_count": 75,
     "metadata": {},
     "output_type": "execute_result"
    }
   ],
   "source": [
    "SVM = LinearSVC(random_state=0)\n",
    "SVM.fit(X_train, y_train)"
   ]
  },
  {
   "cell_type": "code",
   "execution_count": 76,
   "id": "54ba7927",
   "metadata": {},
   "outputs": [
    {
     "name": "stdout",
     "output_type": "stream",
     "text": [
      "                precision    recall  f1-score   support\n",
      "\n",
      "Home Team Loss       0.82      0.80      0.81      7430\n",
      " Home Team Win       0.86      0.88      0.87     10557\n",
      "\n",
      "      accuracy                           0.84     17987\n",
      "     macro avg       0.84      0.84      0.84     17987\n",
      "  weighted avg       0.84      0.84      0.84     17987\n",
      "\n"
     ]
    }
   ],
   "source": [
    "y_pred_SVM = SVM.predict(X_train)\n",
    "print(classification_report(y_train, y_pred_SVM, target_names=class_names))"
   ]
  },
  {
   "cell_type": "code",
   "execution_count": 77,
   "id": "f6514d50",
   "metadata": {},
   "outputs": [
    {
     "name": "stdout",
     "output_type": "stream",
     "text": [
      "                precision    recall  f1-score   support\n",
      "\n",
      "Home Team Loss       0.80      0.79      0.80      3112\n",
      " Home Team Win       0.86      0.87      0.86      4598\n",
      "\n",
      "      accuracy                           0.84      7710\n",
      "     macro avg       0.83      0.83      0.83      7710\n",
      "  weighted avg       0.84      0.84      0.84      7710\n",
      "\n"
     ]
    }
   ],
   "source": [
    "y_pred_SVM = SVM.predict(X_test)\n",
    "print(classification_report(y_test, y_pred_SVM, target_names=class_names))"
   ]
  },
  {
   "cell_type": "code",
   "execution_count": 78,
   "id": "b16e5847",
   "metadata": {},
   "outputs": [
    {
     "data": {
      "text/plain": [
       "<sklearn.metrics._plot.confusion_matrix.ConfusionMatrixDisplay at 0x23674331f90>"
      ]
     },
     "execution_count": 78,
     "metadata": {},
     "output_type": "execute_result"
    },
    {
     "data": {
      "image/png": "[encoded data removed]",
      "text/plain": [
       "<Figure size 432x288 with 2 Axes>"
      ]
     },
     "metadata": {
      "needs_background": "light"
     },
     "output_type": "display_data"
    }
   ],
   "source": [
    "metrics.plot_confusion_matrix(SVM, X_test, y_test,\n",
    "                              display_labels=['Home Team Loss', 'Home Team Win'],\n",
    "                              xticks_rotation='vertical')"
   ]
  },
  {
   "cell_type": "code",
   "execution_count": 79,
   "id": "ab22c20e",
   "metadata": {},
   "outputs": [],
   "source": [
    "#KNN K-Nearest Neighbor"
   ]
  },
  {
   "cell_type": "code",
   "execution_count": 80,
   "id": "b953cd44",
   "metadata": {},
   "outputs": [
    {
     "data": {
      "text/html": [
       "<style>#sk-container-id-6 {color: black;background-color: white;}#sk-container-id-6 pre{padding: 0;}#sk-container-id-6 div.sk-toggleable {background-color: white;}#sk-container-id-6 label.sk-toggleable__label {cursor: pointer;display: block;width: 100%;margin-bottom: 0;padding: 0.3em;box-sizing: border-box;text-align: center;}#sk-container-id-6 label.sk-toggleable__label-arrow:before {content: \"▸\";float: left;margin-right: 0.25em;color: #696969;}#sk-container-id-6 label.sk-toggleable__label-arrow:hover:before {color: black;}#sk-container-id-6 div.sk-estimator:hover label.sk-toggleable__label-arrow:before {color: black;}#sk-container-id-6 div.sk-toggleable__content {max-height: 0;max-width: 0;overflow: hidden;text-align: left;background-color: #f0f8ff;}#sk-container-id-6 div.sk-toggleable__content pre {margin: 0.2em;color: black;border-radius: 0.25em;background-color: #f0f8ff;}#sk-container-id-6 input.sk-toggleable__control:checked~div.sk-toggleable__content {max-height: 200px;max-width: 100%;overflow: auto;}#sk-container-id-6 input.sk-toggleable__control:checked~label.sk-toggleable__label-arrow:before {content: \"▾\";}#sk-container-id-6 div.sk-estimator input.sk-toggleable__control:checked~label.sk-toggleable__label {background-color: #d4ebff;}#sk-container-id-6 div.sk-label input.sk-toggleable__control:checked~label.sk-toggleable__label {background-color: #d4ebff;}#sk-container-id-6 input.sk-hidden--visually {border: 0;clip: rect(1px 1px 1px 1px);clip: rect(1px, 1px, 1px, 1px);height: 1px;margin: -1px;overflow: hidden;padding: 0;position: absolute;width: 1px;}#sk-container-id-6 div.sk-estimator {font-family: monospace;background-color: #f0f8ff;border: 1px dotted black;border-radius: 0.25em;box-sizing: border-box;margin-bottom: 0.5em;}#sk-container-id-6 div.sk-estimator:hover {background-color: #d4ebff;}#sk-container-id-6 div.sk-parallel-item::after {content: \"\";width: 100%;border-bottom: 1px solid gray;flex-grow: 1;}#sk-container-id-6 div.sk-label:hover label.sk-toggleable__label {background-color: #d4ebff;}#sk-container-id-6 div.sk-serial::before {content: \"\";position: absolute;border-left: 1px solid gray;box-sizing: border-box;top: 0;bottom: 0;left: 50%;z-index: 0;}#sk-container-id-6 div.sk-serial {display: flex;flex-direction: column;align-items: center;background-color: white;padding-right: 0.2em;padding-left: 0.2em;position: relative;}#sk-container-id-6 div.sk-item {position: relative;z-index: 1;}#sk-container-id-6 div.sk-parallel {display: flex;align-items: stretch;justify-content: center;background-color: white;position: relative;}#sk-container-id-6 div.sk-item::before, #sk-container-id-6 div.sk-parallel-item::before {content: \"\";position: absolute;border-left: 1px solid gray;box-sizing: border-box;top: 0;bottom: 0;left: 50%;z-index: -1;}#sk-container-id-6 div.sk-parallel-item {display: flex;flex-direction: column;z-index: 1;position: relative;background-color: white;}#sk-container-id-6 div.sk-parallel-item:first-child::after {align-self: flex-end;width: 50%;}#sk-container-id-6 div.sk-parallel-item:last-child::after {align-self: flex-start;width: 50%;}#sk-container-id-6 div.sk-parallel-item:only-child::after {width: 0;}#sk-container-id-6 div.sk-dashed-wrapped {border: 1px dashed gray;margin: 0 0.4em 0.5em 0.4em;box-sizing: border-box;padding-bottom: 0.4em;background-color: white;}#sk-container-id-6 div.sk-label label {font-family: monospace;font-weight: bold;display: inline-block;line-height: 1.2em;}#sk-container-id-6 div.sk-label-container {text-align: center;}#sk-container-id-6 div.sk-container {/* jupyter's `normalize.less` sets `[hidden] { display: none; }` but bootstrap.min.css set `[hidden] { display: none !important; }` so we also need the `!important` here to be able to override the default hidden behavior on the sphinx rendered scikit-learn.org. See: https://github.com/scikit-learn/scikit-learn/issues/21755 */display: inline-block !important;position: relative;}#sk-container-id-6 div.sk-text-repr-fallback {display: none;}</style><div id=\"sk-container-id-6\" class=\"sk-top-container\"><div class=\"sk-text-repr-fallback\"><pre>KNeighborsClassifier(metric=&#x27;euclidean&#x27;, n_neighbors=30)</pre><b>In a Jupyter environment, please rerun this cell to show the HTML representation or trust the notebook. <br />On GitHub, the HTML representation is unable to render, please try loading this page with nbviewer.org.</b></div><div class=\"sk-container\" hidden><div class=\"sk-item\"><div class=\"sk-estimator sk-toggleable\"><input class=\"sk-toggleable__control sk-hidden--visually\" id=\"sk-estimator-id-6\" type=\"checkbox\" checked><label for=\"sk-estimator-id-6\" class=\"sk-toggleable__label sk-toggleable__label-arrow\">KNeighborsClassifier</label><div class=\"sk-toggleable__content\"><pre>KNeighborsClassifier(metric=&#x27;euclidean&#x27;, n_neighbors=30)</pre></div></div></div></div></div>"
      ],
      "text/plain": [
       "KNeighborsClassifier(metric='euclidean', n_neighbors=30)"
      ]
     },
     "execution_count": 80,
     "metadata": {},
     "output_type": "execute_result"
    }
   ],
   "source": [
    "KNN = neighbors.KNeighborsClassifier(n_neighbors=30, algorithm='auto',\n",
    "                                     p=2, metric='euclidean')\n",
    "KNN.fit(X_train, y_train)"
   ]
  },
  {
   "cell_type": "code",
   "execution_count": 81,
   "id": "ed8b0e1b",
   "metadata": {},
   "outputs": [
    {
     "name": "stdout",
     "output_type": "stream",
     "text": [
      "                precision    recall  f1-score   support\n",
      "\n",
      "Home Team Loss       0.71      0.67      0.69      3112\n",
      " Home Team Win       0.78      0.82      0.80      4598\n",
      "\n",
      "      accuracy                           0.76      7710\n",
      "     macro avg       0.75      0.74      0.74      7710\n",
      "  weighted avg       0.75      0.76      0.76      7710\n",
      "\n"
     ]
    }
   ],
   "source": [
    "y_pred_KNN = KNN.predict(X_test)\n",
    "print(classification_report(y_test, y_pred_KNN, target_names=class_names))"
   ]
  },
  {
   "cell_type": "code",
   "execution_count": 82,
   "id": "e9f3a7af",
   "metadata": {},
   "outputs": [
    {
     "data": {
      "text/plain": [
       "<sklearn.metrics._plot.confusion_matrix.ConfusionMatrixDisplay at 0x236018248e0>"
      ]
     },
     "execution_count": 82,
     "metadata": {},
     "output_type": "execute_result"
    },
    {
     "data": {
      "image/png": "[encoded data removed]",
      "text/plain": [
       "<Figure size 432x288 with 2 Axes>"
      ]
     },
     "metadata": {
      "needs_background": "light"
     },
     "output_type": "display_data"
    }
   ],
   "source": [
    "metrics.plot_confusion_matrix(KNN, X_test, y_test)"
   ]
  },
  {
   "cell_type": "code",
   "execution_count": 83,
   "id": "405b37f8",
   "metadata": {},
   "outputs": [
    {
     "data": {
      "text/plain": [
       "0.7937209816493478"
      ]
     },
     "execution_count": 83,
     "metadata": {},
     "output_type": "execute_result"
    }
   ],
   "source": [
    "# Precision\n",
    "# TP / TP + FP \n",
    "\n",
    "3590 / (3590+933)"
   ]
  },
  {
   "cell_type": "code",
   "execution_count": 90,
   "id": "698a165b",
   "metadata": {},
   "outputs": [],
   "source": [
    "data = [['LR', 0.84],['Forest', 0.83],['Desc_Tree', 0.81],['Extra_Tree', 0.80], ['SVM', 0.84], ['KNN', 0.76]]\n",
    "data_accuracy = pd.DataFrame(data, columns=['Models', 'Accuracy'])"
   ]
  },
  {
   "cell_type": "code",
   "execution_count": 91,
   "id": "805e9099",
   "metadata": {},
   "outputs": [
    {
     "data": {
      "text/html": [
       "<div>\n",
       "<style scoped>\n",
       "    .dataframe tbody tr th:only-of-type {\n",
       "        vertical-align: middle;\n",
       "    }\n",
       "\n",
       "    .dataframe tbody tr th {\n",
       "        vertical-align: top;\n",
       "    }\n",
       "\n",
       "    .dataframe thead th {\n",
       "        text-align: right;\n",
       "    }\n",
       "</style>\n",
       "<table border=\"1\" class=\"dataframe\">\n",
       "  <thead>\n",
       "    <tr style=\"text-align: right;\">\n",
       "      <th></th>\n",
       "      <th>Models</th>\n",
       "      <th>Accuracy</th>\n",
       "    </tr>\n",
       "  </thead>\n",
       "  <tbody>\n",
       "    <tr>\n",
       "      <th>0</th>\n",
       "      <td>LR</td>\n",
       "      <td>0.84</td>\n",
       "    </tr>\n",
       "    <tr>\n",
       "      <th>1</th>\n",
       "      <td>Forest</td>\n",
       "      <td>0.83</td>\n",
       "    </tr>\n",
       "    <tr>\n",
       "      <th>2</th>\n",
       "      <td>Desc_Tree</td>\n",
       "      <td>0.81</td>\n",
       "    </tr>\n",
       "    <tr>\n",
       "      <th>3</th>\n",
       "      <td>Extra_Tree</td>\n",
       "      <td>0.80</td>\n",
       "    </tr>\n",
       "    <tr>\n",
       "      <th>4</th>\n",
       "      <td>SVM</td>\n",
       "      <td>0.84</td>\n",
       "    </tr>\n",
       "    <tr>\n",
       "      <th>5</th>\n",
       "      <td>KNN</td>\n",
       "      <td>0.76</td>\n",
       "    </tr>\n",
       "  </tbody>\n",
       "</table>\n",
       "</div>"
      ],
      "text/plain": [
       "       Models  Accuracy\n",
       "0          LR      0.84\n",
       "1      Forest      0.83\n",
       "2   Desc_Tree      0.81\n",
       "3  Extra_Tree      0.80\n",
       "4         SVM      0.84\n",
       "5         KNN      0.76"
      ]
     },
     "execution_count": 91,
     "metadata": {},
     "output_type": "execute_result"
    }
   ],
   "source": [
    "data_accuracy"
   ]
  },
  {
   "cell_type": "code",
   "execution_count": 92,
   "id": "511735a5",
   "metadata": {},
   "outputs": [
    {
     "data": {
      "text/plain": [
       "[Text(0.5, 1.0, 'Accuracy for Every Model')]"
      ]
     },
     "execution_count": 92,
     "metadata": {},
     "output_type": "execute_result"
    },
    {
     "data": {
      "image/png": "[encoded data removed]",
      "text/plain": [
       "<Figure size 864x576 with 1 Axes>"
      ]
     },
     "metadata": {},
     "output_type": "display_data"
    }
   ],
   "source": [
    "plt.figure(figsize=(12, 8))\n",
    "sns.set(style=\"darkgrid\")\n",
    "\n",
    "sns.barplot(x=\"Models\", y=\"Accuracy\", data=data_accuracy).set(title='Accuracy for Every Model')"
   ]
  },
  {
   "cell_type": "code",
   "execution_count": 93,
   "id": "eb3e193f",
   "metadata": {},
   "outputs": [],
   "source": [
    "diff.to_csv('data_nba_clean_diff.csv')"
   ]
  }
 ],
 "metadata": {
  "kernelspec": {
   "display_name": "Python 3 (ipykernel)",
   "language": "python",
   "name": "python3"
  },
  "language_info": {
   "codemirror_mode": {
    "name": "ipython",
    "version": 3
   },
   "file_extension": ".py",
   "mimetype": "text/x-python",
   "name": "python",
   "nbconvert_exporter": "python",
   "pygments_lexer": "ipython3",
   "version": "3.10.3"
  }
 },
 "nbformat": 4,
 "nbformat_minor": 5
}
